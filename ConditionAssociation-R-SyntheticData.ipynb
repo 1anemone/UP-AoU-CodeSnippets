{
 "cells": [
  {
   "cell_type": "markdown",
   "id": "85df85b8",
   "metadata": {},
   "source": [
    "<div style=\"text-align: center; margin-bottom: 25px;  padding: 20px; border-radius: 10px;\">\n",
    "\n",
    "<h1 style= \"font-weight: bold; font-size: 2.5em;\">Condition Association Template w/ Example Data</h1>\n",
    "\n",
    "</div>\n"
   ]
  },
  {
   "cell_type": "markdown",
   "id": "a2d58176-e73b-4e54-ab01-8477e724ee25",
   "metadata": {
    "tags": []
   },
   "source": [
    "<div style=\"text-align: center;\">\n",
    "\n",
    "# <font color='black'><b>Table of Contents</b></font><a class='anchor' id='top'></a>\n",
    "\n",
    "<table style=\"margin: auto;\">\n",
    "    <tr>\n",
    "        <td style=\"text-align: left;\"><a href=\"#section_1\">1. Introduction</a></td>\n",
    "    </tr>\n",
    "    <tr>\n",
    "        <td style=\"text-align: left;\"><a href=\"#section_2\">2. Import Libraries</a></td>\n",
    "    </tr>\n",
    "    <tr>\n",
    "        <td style=\"text-align: left;\"><a href=\"#section_3\">3. Import Data</a></td>\n",
    "    </tr>\n",
    "    <tr>\n",
    "        <td style=\"text-align: left;\"><a href=\"#section_4\">4. Relabel Data Frames</a></td>\n",
    "    </tr>\n",
    "    <tr>\n",
    "        <td style=\"text-align: left;\"><a href=\"#section_5\">5. Creating a Column for the Outcome</a></td>\n",
    "    </tr>\n",
    "    <tr>\n",
    "        <td style=\"text-align: left;\"><a href=\"#section_6\">6. Creating a Column for the Predictor</a></td>\n",
    "    </tr>\n",
    "    <tr>\n",
    "        <td style=\"text-align: left;\"><a href=\"#section_7\">7. Join the Data Frames</a></td>\n",
    "    </tr>\n",
    "    <tr>\n",
    "        <td style=\"text-align: left;\"><a href=\"#section_8\">8. Replace NAs</a></td>\n",
    "    </tr>\n",
    "    <tr>\n",
    "        <td style=\"text-align: left;\"><a href=\"#section_9\">9. Factor the Categorical Variables</a></td>\n",
    "    </tr>\n",
    "    <tr>\n",
    "        <td style=\"text-align: left;\"><a href=\"#section_10\">10. Calculate Age</a></td>\n",
    "    </tr>\n",
    "    <tr>\n",
    "        <td style=\"text-align: left;\"><a href=\"#section_11\">11. Explore Cleaned Data</a></td>\n",
    "    </tr>\n",
    "    <tr>\n",
    "        <td style=\"text-align: left; padding-left: 20px;\"><a href=\"#subsection_11_1\">11.1 Numerical Summary</a></td>\n",
    "    </tr>\n",
    "    <tr>\n",
    "        <td style=\"text-align: left; padding-left: 20px;\"><a href=\"#subsection_11_2\">11.2 Graphical Summary</a></td>\n",
    "    </tr>\n",
    "    <tr>\n",
    "        <td style=\"text-align: left; padding-left: 40px;\"><a href=\"#subsection_11_2_1\">11.2.1 Density/Histogram Plot</a></td>\n",
    "    </tr>\n",
    "    <tr>\n",
    "        <td style=\"text-align: left; padding-left: 40px;\"><a href=\"#subsection_11_2_2\">11.2.2 Bar Plot</a></td>\n",
    "    </tr>\n",
    "    <tr>\n",
    "        <td style=\"text-align: left;\"><a href=\"#section_12\">12. Statistical Analysis</a></td>\n",
    "    </tr>\n",
    "    <tr>\n",
    "        <td style=\"text-align: left; padding-left: 20px;\"><a href=\"#subsection_12_1\">12.1 Pearson's Chi-Square Test</a></td>\n",
    "    </tr>\n",
    "    <tr>\n",
    "        <td style=\"text-align: left; padding-left: 20px;\"><a href=\"#subsection_12_2\">12.2 Variance Test and T-Test</a></td>\n",
    "    </tr>\n",
    "    <tr>\n",
    "        <td style=\"text-align: left; padding-left: 20px;\"><a href=\"#subsection_12_3\">12.3 Logistic Regressions</a></td>\n",
    "    </tr>\n",
    "    <tr>\n",
    "        <td style=\"text-align: left; padding-left: 40px;\"><a href=\"#subsection_12_3_1\">12.3.1 Unadjusted Logistic Regression</a></td>\n",
    "    </tr>\n",
    "    <tr>\n",
    "        <td style=\"text-align: left; padding-left: 40px;\"><a href=\"#subsection_12_3_2\">12.3.2 Unadjusted Odds Ratio and Confidence Interval</a></td>\n",
    "    </tr>\n",
    "    <tr>\n",
    "        <td style=\"text-align: left; padding-left: 40px;\"><a href=\"#subsection_12_3_3\">12.3.3 Adjusted Logistic Regression</a></td>\n",
    "    </tr>\n",
    "    <tr>\n",
    "        <td style=\"text-align: left; padding-left: 40px;\"><a href=\"#subsection_12_3_4\">12.3.4 Adjusted Odds Ratio and Confidence Interval</a></td>\n",
    "    </tr>\n",
    "    <tr>\n",
    "        <td style=\"text-align: left; padding-left: 40px;\"><a href=\"#subsection_12_3_5\">12.3.5 Summary of Logistic Regressions</a></td>\n",
    "    </tr>\n",
    "</table>\n",
    "\n",
    "</div>"
   ]
  },
  {
   "cell_type": "markdown",
   "id": "0761eba8-0af6-4128-ad76-39d6beacba2d",
   "metadata": {},
   "source": [
    "---"
   ]
  },
  {
   "cell_type": "markdown",
   "id": "5ae04359-f2c9-4e7d-aa56-62bf489d3241",
   "metadata": {
    "tags": []
   },
   "source": [
    "<div style=\"text-align: center; margin-bottom: 25px; background-color: #E6FFE6; padding: 10px; border-radius: 10px;\">\n",
    "\n",
    "<a id='section_1'></a>\n",
    "\n",
    "<h1 style=\"color: #2E86C1; font-weight: bold;\">1. Introduction 👋</h1>\n",
    "\n",
    "</div>\n",
    "\n",
    "\n",
    "<div style=\"text-align: center; margin: 0 auto; width: 80%; border: 2px solid #2E86C1; padding: 20px; border-radius: 10px; box-shadow: 0 4px 8px rgba(0,0,0,0.1);\">\n",
    "\n",
    "**Welcome to the Condition Association Code Template tailored for the All of Us (AoU) data!** Our goal is to guide you through analyzing the relationship between two conditions using AoU data. This template offers a comprehensive pathway and code samples to simplify your analysis. It's designed for both beginners and experienced analysts. Please follow the [AoU Condition Association Code Template Instructions](https://drive.google.com/file/d/1gjwjX3Vq6GVTUkpQM_4PanhTBQScL8Fp/view?usp=sharing) to build your cohorts and data frames for this template. This is the only way to guarantee consistent results.\n",
    "\n",
    "**To upload these templates to a workspace in the All of Us Researcher Workbench, please follow these [instructions](https://support.researchallofus.org/hc/en-us/articles/360042684051-Are-external-coding-files-able-to-be-imported-for-analysis-)**\n",
    "    \n",
    "<font color='red' size=\"4\"><strong>Note: Each section contains important information. Please read them carefully! </strong></font>\n",
    "\n",
    "<br>\n",
    "\n",
    "<h2 style=\"color: #2E86C1; text-decoration: underline; font-weight: bold;\">Learning Objectives:</h2>\n",
    "\n",
    "<ul style=\"list-style-position: inside; text-align: left; display: inline-block;\">\n",
    "    <li><strong>Set up R in Jupyter and load required libraries and packages.</strong></li>\n",
    "    <li><strong>Load and prepare dataframes for analysis.</strong></li>\n",
    "    <li><strong>Produce a data summary table.</strong></li>\n",
    "    <li><strong>Create and interpret visualizations, such as bar charts, box plots, and density plots.</strong></li>\n",
    "    <li><strong>Conduct and interpret various tests and regressions:</strong>\n",
    "        <ul style=\"padding-left: 40px;\">\n",
    "            <li><strong>Use the Chi-square test for categorical data.</strong></li>\n",
    "            <li><strong>Apply the T-test for comparing means.</strong></li>\n",
    "            <li><strong>Perform unadjusted logistic regression for binary outcomes with one predictor.</strong></li>\n",
    "            <li><strong>Run adjusted logistic regression with multiple predictors.</strong></li>\n",
    "        </ul>\n",
    "    </li>\n",
    "    <li><strong>Draw conclusions from your analysis, considering the implications and limitations.</strong></li>\n",
    "</ul>\n",
    "\n",
    "</div>\n"
   ]
  },
  {
   "cell_type": "markdown",
   "id": "7b20458e-336c-4900-83db-f23f999fed8b",
   "metadata": {},
   "source": [
    "---\n",
    "<div style=\"text-align: center; margin-bottom: 25px; background-color: #E6FFE6; padding: 10px; border-radius: 10px;\">\n",
    "\n",
    "<a id='section_2'></a>\n",
    "\n",
    "<h1 style=\"color: #2E86C1; font-weight: bold;\">2. Import Libraries 📚</h1>\n",
    "\n",
    "</div>\n",
    "\n",
    "<div style=\"border: 2px solid #2E86C1; padding: 20px; border-radius: 10px; margin: 20px 0; box-shadow: 0 4px 8px rgba(0,0,0,0.1);\">\n",
    "\n",
    "<div style=\"font-size: 17px; text-align: center; width: 80%; margin: 20px auto; line-height: 1.6; color: #333;\">\n",
    "    \n",
    "The following code block checks for each listed package. If not already installed, it will install the necessary packages and then import them into the notebook.\n",
    "\n",
    "<strong>Automatically Imported by All of Us:</strong> `tidyverse`, `bigrquery`\n",
    "\n",
    "<strong>Require Manual Import:</strong> `arsenal`, `IRdisplay`\n",
    "\n",
    "</div>\n",
    "\n",
    "<div style=\"text-align: center; margin: 20px auto; width: 80%; font-size: 17px; background-color: #e6f2ff; padding: 15px; border-radius: 6px; line-height: 1.6; border: 1px solid #2E86C1;\">\n",
    "<b>Note:</b> Packages are auto-imported only when using the DatasetBuilder to export dataframes. Without the DatasetBuilder, no packages are imported automatically.\n",
    "</div>\n",
    "\n",
    "</div>\n",
    "\n",
    "\n"
   ]
  },
  {
   "cell_type": "code",
   "execution_count": 1,
   "id": "9da60c8c-0026-4c48-a658-2d994df6bca0",
   "metadata": {
    "tags": []
   },
   "outputs": [
    {
     "name": "stderr",
     "output_type": "stream",
     "text": [
      "Warning message:\n",
      "\"package 'bigrquery' was built under R version 3.6.3\""
     ]
    }
   ],
   "source": [
    "# Package names\n",
    "packages <- c(\"tidyverse\", \"bigrquery\", \"IRdisplay\", \"arsenal\")\n",
    "\n",
    "# Install packages not yet installed\n",
    "installed_packages <- packages %in% rownames(installed.packages())\n",
    "if (any(installed_packages == FALSE)) {\n",
    "  install.packages(packages[!installed_packages])\n",
    "}\n",
    "\n",
    "# Packages loading\n",
    "suppressPackageStartupMessages(invisible(lapply(packages, library, character.only = TRUE)))"
   ]
  },
  {
   "cell_type": "markdown",
   "id": "3c48ae17-2b40-4b43-891f-9f1cd7155eea",
   "metadata": {},
   "source": [
    "---"
   ]
  },
  {
   "cell_type": "markdown",
   "id": "986e56a0-5d43-489a-99ed-0ed54b434b49",
   "metadata": {},
   "source": [
    "<div style=\"text-align: center; margin-bottom: 25px; background-color: #E6FFE6; padding: 10px; border-radius: 10px;\">\n",
    "\n",
    "<a id='section_3'></a>\n",
    "\n",
    "<h1 style=\"color: #2E86C1; font-weight: bold;\">3. Import Data 🗃️</h1>\n",
    "\n",
    "</div>\n",
    "\n",
    "<div style=\"border: 2px solid #2E86C1; padding: 20px; border-radius: 10px; margin: 20px 0; box-shadow: 0 4px 8px rgba(0,0,0,0.1);\">\n",
    "\n",
    "<div style=\"font-size: 17px; text-align: center; width: 80%; margin: 20px auto; line-height: 1.6; color: #333;\">\n",
    "    \n",
    "This section simulates the process of importing All of Us datasets. In the actual AoU Researcher Workbench, data is imported using the DatasetBuilder which builds the SQL code. For the R kernel, there are two code cells are generated for each dataset. For the <strong>three datasets</strong> you need in this analysis, expect a total of <strong>six code cells</strong>.\n",
    "    \n",
    "<font color='red' size=\"4\"><strong>Note: The AoU data frames will be imported to the bottom of the code template. You need to move them up to this section! </strong></font> \n",
    "\n",
    "**How to do this:** Select the first imported cell, it will highlight blue. While holding down `Shift`, scroll to the last imported cell and click on it. All six cells should highlight blue. Hit the up arrow ⬆ in the toolbar and move the cells to this section. You can keep track of this in the Table of Contents by watching the yellow box move from section to section. Once it reaches the correct section (<font color='blue' size=\"4\"><strong>3. Import Data</strong></font>), you can stop moving the cells. Don't forget to rename the datasets in Section 4!\n",
    "\n",
    "</div>\n",
    "\n",
    "</div>\n",
    "\n",
    "\n"
   ]
  },
  {
   "cell_type": "code",
   "execution_count": 2,
   "id": "e064960e-bd5a-4f20-b1c8-30ad48f256f6",
   "metadata": {
    "tags": []
   },
   "outputs": [],
   "source": [
    "set.seed(23)  # Setting seed for reproducibility\n",
    "\n",
    "# Function to generate individual random data frames\n",
    "generate_random_data <- function(start_id, n) {\n",
    "  data.frame(\n",
    "    person_id = start_id:(start_id + n - 1),\n",
    "    sex_at_birth = sample(c(\"Male\", \"Female\"), n, replace = TRUE),\n",
    "    date_of_birth = format(as.POSIXct(runif(n, \n",
    "                                            as.numeric(as.POSIXct(\"1945-01-01 UTC\")), \n",
    "                                            as.numeric(as.POSIXct(\"2002-12-31 UTC\"))), \n",
    "                           origin=\"1970-01-01\"), \"%Y-%m-%d %H:%M:%S UTC\"),\n",
    "    race = sample(c(\"Black or African American\", \"White\", \"Asian\"), n, replace = TRUE),\n",
    "    ethnicity = sample(c(\"Hispanic or Latino\", \"Not Hispanic or Latino\"), n, replace = TRUE),\n",
    "    stringsAsFactors = FALSE\n",
    "  )\n",
    "}\n",
    "\n",
    "# Function to generate two data frames with non-overlapping person_id\n",
    "generate_two_dataframes <- function(n1, n2) {\n",
    "  df1 <- generate_random_data(1, n1) # Dataset1 with n1 rows\n",
    "  df2 <- generate_random_data(n1 + 1, n2) # Dataset2 with n2 rows starting from n1 + 1\n",
    "  \n",
    "  list(df1 = df1, df2 = df2)\n",
    "}\n",
    "\n",
    "# Generate two dataframes with specified row counts\n",
    "datasets <- generate_two_dataframes(500, 1000)\n",
    "\n",
    "# Extract the individual dataframes\n",
    "dataset_12345678_person_df <- datasets$df1 # CASE_DF\n",
    "dataset_23456789_person_df <- datasets$df2 # CONTROL_DF\n",
    "\n",
    "\n",
    "# Generate random df for condition\n",
    "\n",
    "# Randomly sample from the person IDs for a specified number of occurrences\n",
    "\n",
    "disease_case <- sample(dataset_12345678_person_df$person_id, 143, replace = FALSE)\n",
    "disease_control <- sample(dataset_23456789_person_df$person_id, 201, replace = FALSE)\n",
    "# Create the dataframe\n",
    "dataset_34567890_person_df <- data.frame(person_id = c(disease_case, disease_control)) # CONDITION_DF"
   ]
  },
  {
   "cell_type": "markdown",
   "id": "b473d6a9-125e-4e1e-9c8d-ce68be5e4766",
   "metadata": {},
   "source": [
    "---"
   ]
  },
  {
   "cell_type": "markdown",
   "id": "af1ef25c-b929-45c1-a26c-31f78770036f",
   "metadata": {},
   "source": [
    "<div style=\"text-align: center; margin-bottom: 25px; background-color: #E6FFE6; padding: 10px; border-radius: 10px;\">\n",
    "\n",
    "<a id='section_4'></a>\n",
    "\n",
    "<h1 style=\"color: #2E86C1; font-weight: bold;\">4. Relabel Data Frames 🏷️</h1>\n",
    "\n",
    "</div>\n",
    "\n",
    "<div style=\"border: 2px solid #2E86C1; padding: 20px; border-radius: 10px; margin: 20px 0; box-shadow: 0 4px 8px rgba(0,0,0,0.1);\">\n",
    "\n",
    "<div style=\"font-size: 17px; text-align: center; width: 80%; margin: 20px auto; line-height: 1.6; color: #333;\">\n",
    "    \n",
    "In this section, you'll be renaming the AoU data frames. When datasets are imported into the notebook using the DatasetBuilder, they're named in the format: <code>dataset_12345678_domain_df</code>. The <code>domain</code> corresponds to the type of concept set linked to your cohort (i.e `person` corresponds to the **Demographics** prepackaged concept set).\n",
    "\n",
    "</div>\n",
    "\n",
    "</div>\n"
   ]
  },
  {
   "cell_type": "code",
   "execution_count": 3,
   "id": "545005f7-d739-4b5d-83e0-a7e376be63b6",
   "metadata": {
    "tags": []
   },
   "outputs": [],
   "source": [
    "# Rename data frames\n",
    "case_df <- dataset_12345678_person_df\n",
    "\n",
    "control_df <- dataset_23456789_person_df\n",
    "\n",
    "condition_df <- dataset_34567890_person_df\n",
    "\n",
    "# The outcome condition used to build case and control cohorts\n",
    "condition_1_name = \"Atopic Dermatitis\"\n",
    "# The predictor condition used to build condition cohort\n",
    "condition_2_name = \"Chronic Sinusitis\""
   ]
  },
  {
   "cell_type": "markdown",
   "id": "5d9fe836-f047-4f77-b70e-777300d5ac43",
   "metadata": {
    "tags": []
   },
   "source": [
    "<div style=\"border: 2px solid #2E86C1; padding: 20px; border-radius: 10px; margin: 20px 0; box-shadow: 0 4px 8px rgba(0,0,0,0.1);\">\n",
    "\n",
    "<div style=\"font-size: 17px; text-align: center; width: 55%; margin: 40px auto 20px auto; line-height: 1.6; color: #333;\">\n",
    "    \n",
    "Inspect the <strong>first 6 rows</strong> of the <code>case_df</code> dataframe and determine its <strong>dimensions</strong>.\n",
    "\n",
    "</div>\n",
    "\n",
    "<div style=\"text-align: center; margin: 10px auto; width: 70%; font-size: 17px; background-color: #e6f2ff; padding: 15px; border-radius: 6px; line-height: 1.6; border: 1px solid #2E86C1;\">\n",
    "<b>Note:</b> To examine other dataframes, replace <code>case_df</code> with the desired dataframe name, such as <code>control_df</code> or <code>condition_df</code>.\n",
    "</div>\n",
    "\n",
    "</div>\n",
    "\n",
    "\n"
   ]
  },
  {
   "cell_type": "code",
   "execution_count": 4,
   "id": "c51ae4a1-600d-466d-8494-ef0ad8f74628",
   "metadata": {
    "tags": []
   },
   "outputs": [
    {
     "data": {
      "text/html": [
       "<table>\n",
       "<thead><tr><th scope=col>person_id</th><th scope=col>sex_at_birth</th><th scope=col>date_of_birth</th><th scope=col>race</th><th scope=col>ethnicity</th></tr></thead>\n",
       "<tbody>\n",
       "\t<tr><td>1                        </td><td>Male                     </td><td>1989-11-26 01:06:35 UTC  </td><td>White                    </td><td>Hispanic or Latino       </td></tr>\n",
       "\t<tr><td>2                        </td><td>Female                   </td><td>1958-12-02 04:34:42 UTC  </td><td>White                    </td><td>Not Hispanic or Latino   </td></tr>\n",
       "\t<tr><td>3                        </td><td>Female                   </td><td>1967-12-06 22:24:21 UTC  </td><td>Asian                    </td><td>Not Hispanic or Latino   </td></tr>\n",
       "\t<tr><td>4                        </td><td>Male                     </td><td>1956-11-17 12:41:30 UTC  </td><td>White                    </td><td>Not Hispanic or Latino   </td></tr>\n",
       "\t<tr><td>5                        </td><td>Female                   </td><td>1996-05-25 13:56:34 UTC  </td><td>Black or African American</td><td>Not Hispanic or Latino   </td></tr>\n",
       "\t<tr><td>6                        </td><td>Male                     </td><td>1994-08-07 22:43:40 UTC  </td><td>Asian                    </td><td>Hispanic or Latino       </td></tr>\n",
       "</tbody>\n",
       "</table>\n"
      ],
      "text/latex": [
       "\\begin{tabular}{r|lllll}\n",
       " person\\_id & sex\\_at\\_birth & date\\_of\\_birth & race & ethnicity\\\\\n",
       "\\hline\n",
       "\t 1                         & Male                      & 1989-11-26 01:06:35 UTC   & White                     & Hispanic or Latino       \\\\\n",
       "\t 2                         & Female                    & 1958-12-02 04:34:42 UTC   & White                     & Not Hispanic or Latino   \\\\\n",
       "\t 3                         & Female                    & 1967-12-06 22:24:21 UTC   & Asian                     & Not Hispanic or Latino   \\\\\n",
       "\t 4                         & Male                      & 1956-11-17 12:41:30 UTC   & White                     & Not Hispanic or Latino   \\\\\n",
       "\t 5                         & Female                    & 1996-05-25 13:56:34 UTC   & Black or African American & Not Hispanic or Latino   \\\\\n",
       "\t 6                         & Male                      & 1994-08-07 22:43:40 UTC   & Asian                     & Hispanic or Latino       \\\\\n",
       "\\end{tabular}\n"
      ],
      "text/markdown": [
       "\n",
       "| person_id | sex_at_birth | date_of_birth | race | ethnicity |\n",
       "|---|---|---|---|---|\n",
       "| 1                         | Male                      | 1989-11-26 01:06:35 UTC   | White                     | Hispanic or Latino        |\n",
       "| 2                         | Female                    | 1958-12-02 04:34:42 UTC   | White                     | Not Hispanic or Latino    |\n",
       "| 3                         | Female                    | 1967-12-06 22:24:21 UTC   | Asian                     | Not Hispanic or Latino    |\n",
       "| 4                         | Male                      | 1956-11-17 12:41:30 UTC   | White                     | Not Hispanic or Latino    |\n",
       "| 5                         | Female                    | 1996-05-25 13:56:34 UTC   | Black or African American | Not Hispanic or Latino    |\n",
       "| 6                         | Male                      | 1994-08-07 22:43:40 UTC   | Asian                     | Hispanic or Latino        |\n",
       "\n"
      ],
      "text/plain": [
       "  person_id sex_at_birth date_of_birth           race                     \n",
       "1 1         Male         1989-11-26 01:06:35 UTC White                    \n",
       "2 2         Female       1958-12-02 04:34:42 UTC White                    \n",
       "3 3         Female       1967-12-06 22:24:21 UTC Asian                    \n",
       "4 4         Male         1956-11-17 12:41:30 UTC White                    \n",
       "5 5         Female       1996-05-25 13:56:34 UTC Black or African American\n",
       "6 6         Male         1994-08-07 22:43:40 UTC Asian                    \n",
       "  ethnicity             \n",
       "1 Hispanic or Latino    \n",
       "2 Not Hispanic or Latino\n",
       "3 Not Hispanic or Latino\n",
       "4 Not Hispanic or Latino\n",
       "5 Not Hispanic or Latino\n",
       "6 Hispanic or Latino    "
      ]
     },
     "metadata": {},
     "output_type": "display_data"
    },
    {
     "data": {
      "text/html": [
       "<ol class=list-inline>\n",
       "\t<li>500</li>\n",
       "\t<li>5</li>\n",
       "</ol>\n"
      ],
      "text/latex": [
       "\\begin{enumerate*}\n",
       "\\item 500\n",
       "\\item 5\n",
       "\\end{enumerate*}\n"
      ],
      "text/markdown": [
       "1. 500\n",
       "2. 5\n",
       "\n",
       "\n"
      ],
      "text/plain": [
       "[1] 500   5"
      ]
     },
     "metadata": {},
     "output_type": "display_data"
    }
   ],
   "source": [
    "# Examine dfs\n",
    "head(case_df)\n",
    "dim(case_df)"
   ]
  },
  {
   "cell_type": "markdown",
   "id": "ce82016e-7cd3-4625-a9bb-d632e0b322a5",
   "metadata": {},
   "source": [
    "---"
   ]
  },
  {
   "cell_type": "markdown",
   "id": "aac492dd-9275-4425-b1b2-5fdc48934df9",
   "metadata": {},
   "source": [
    "<div style=\"text-align: center; margin-bottom: 25px; background-color: #E6FFE6; padding: 10px; border-radius: 10px;\">\n",
    "\n",
    "<a id='section_5'></a>\n",
    "\n",
    "<h1 style=\"color: #2E86C1; font-weight: bold;\">5. Creating a Column for the Outcome 🖋️</h1>\n",
    "\n",
    "</div>\n",
    "\n",
    "<div style=\"border: 2px solid #2E86C1; padding: 20px; border-radius: 10px; margin: 20px 0; box-shadow: 0 4px 8px rgba(0,0,0,0.1);\">\n",
    "\n",
    "<div style=\"font-size: 17px; text-align: center; width: 80%; margin: 20px auto; line-height: 1.6; color: #333;\">\n",
    "    \n",
    "In this guide, <strong>condition 1</strong> is treated as the <code>outcome</code> and used to define your <strong>case and control cohorts</strong>. \n",
    "\n",
    "Both <code>case_df</code> and <code>control_df</code> are constructed based on the presence or absence of the outcome. As we'll be merging these dataframes later, it's crucial to <strong>introduce a new column</strong> distinguishing between cases and controls. \n",
    "\n",
    "This new column, termed <code>outcome</code>, will be assigned a value of <code>1</code> for the case group and <code>0</code> for the control group.\n",
    "\n",
    "</div>\n",
    "\n",
    "</div>\n",
    "\n"
   ]
  },
  {
   "cell_type": "code",
   "execution_count": 5,
   "id": "4759d016-2391-41c6-bf71-b922a3a9ef9b",
   "metadata": {
    "tags": []
   },
   "outputs": [],
   "source": [
    "# Assign all cases with the value 1 in a new column called 'outcome'\n",
    "case_df$outcome <- 1\n",
    "\n",
    "# Assign all controls with the value 0 to same column\n",
    "control_df$outcome <- 0"
   ]
  },
  {
   "cell_type": "markdown",
   "id": "987a62e8-d2ce-4ae1-994b-285ade814289",
   "metadata": {},
   "source": [
    "---\n",
    "<div style=\"text-align: center; margin-bottom: 25px; background-color: #E6FFE6; padding: 10px; border-radius: 10px;\">\n",
    "\n",
    "<a id='section_6'></a>\n",
    "\n",
    "<h1 style=\"color: #2E86C1; font-weight: bold;\">6. Creating a Column for the Predictor 🖋️</h1>\n",
    "\n",
    "</div>\n",
    "\n",
    "<div style=\"border: 2px solid #2E86C1; padding: 20px; border-radius: 10px; margin: 20px 0; box-shadow: 0 4px 8px rgba(0,0,0,0.1);\">\n",
    "\n",
    "<div style=\"font-size: 17px; text-align: center; width: 80%; margin: 20px auto; line-height: 1.6; color: #333;\">\n",
    "\n",
    "In this guide, <strong>condition 2</strong> is viewed as the <code>predictor</code> and used to define your <strong>condition cohort</strong>. \n",
    "\n",
    "We'll establish a new column within the <code>condition_df</code> dataframe to represent the this value. This new column, named <code>predictor</code>, will assign a value of <code>1</code> to each entry.\n",
    "\n",
    "</div>\n",
    "\n",
    "</div>\n",
    "\n"
   ]
  },
  {
   "cell_type": "code",
   "execution_count": 6,
   "id": "505df7b0-d2ef-48e0-b035-561b28b9399f",
   "metadata": {
    "tags": []
   },
   "outputs": [
    {
     "data": {
      "text/html": [
       "<ol class=list-inline>\n",
       "\t<li>344</li>\n",
       "\t<li>2</li>\n",
       "</ol>\n"
      ],
      "text/latex": [
       "\\begin{enumerate*}\n",
       "\\item 344\n",
       "\\item 2\n",
       "\\end{enumerate*}\n"
      ],
      "text/markdown": [
       "1. 344\n",
       "2. 2\n",
       "\n",
       "\n"
      ],
      "text/plain": [
       "[1] 344   2"
      ]
     },
     "metadata": {},
     "output_type": "display_data"
    },
    {
     "data": {
      "text/html": [
       "<table>\n",
       "<thead><tr><th scope=col>person_id</th><th scope=col>predictor</th></tr></thead>\n",
       "<tbody>\n",
       "\t<tr><td>209</td><td>1  </td></tr>\n",
       "\t<tr><td>296</td><td>1  </td></tr>\n",
       "\t<tr><td>398</td><td>1  </td></tr>\n",
       "\t<tr><td> 37</td><td>1  </td></tr>\n",
       "\t<tr><td>416</td><td>1  </td></tr>\n",
       "\t<tr><td> 62</td><td>1  </td></tr>\n",
       "</tbody>\n",
       "</table>\n"
      ],
      "text/latex": [
       "\\begin{tabular}{r|ll}\n",
       " person\\_id & predictor\\\\\n",
       "\\hline\n",
       "\t 209 & 1  \\\\\n",
       "\t 296 & 1  \\\\\n",
       "\t 398 & 1  \\\\\n",
       "\t  37 & 1  \\\\\n",
       "\t 416 & 1  \\\\\n",
       "\t  62 & 1  \\\\\n",
       "\\end{tabular}\n"
      ],
      "text/markdown": [
       "\n",
       "| person_id | predictor |\n",
       "|---|---|\n",
       "| 209 | 1   |\n",
       "| 296 | 1   |\n",
       "| 398 | 1   |\n",
       "|  37 | 1   |\n",
       "| 416 | 1   |\n",
       "|  62 | 1   |\n",
       "\n"
      ],
      "text/plain": [
       "  person_id predictor\n",
       "1 209       1        \n",
       "2 296       1        \n",
       "3 398       1        \n",
       "4  37       1        \n",
       "5 416       1        \n",
       "6  62       1        "
      ]
     },
     "metadata": {},
     "output_type": "display_data"
    }
   ],
   "source": [
    "# Assign 1 to all persons in a new column called 'predictor'\n",
    "condition_df$predictor <- 1\n",
    "\n",
    "dim(condition_df)\n",
    "head(condition_df)"
   ]
  },
  {
   "cell_type": "markdown",
   "id": "214d7ddd-b419-41cd-a2fd-c5af271940d1",
   "metadata": {},
   "source": [
    "---"
   ]
  },
  {
   "cell_type": "markdown",
   "id": "a790657e-bcb0-42e7-bc28-774f2c28ce5a",
   "metadata": {},
   "source": [
    "<div style=\"text-align: center; margin-bottom: 25px; background-color: #E6FFE6; padding: 10px; border-radius: 10px;\">\n",
    "\n",
    "<a id='section_7'></a>\n",
    "\n",
    "<h1 style=\"color: #2E86C1; font-weight: bold;\">7. Join the Data Frames 🔗</h1>\n",
    "\n",
    "</div>\n",
    "\n",
    "\n",
    "\n",
    "<div style=\"border: 2px solid #2E86C1; padding: 20px; border-radius: 10px; margin: 20px 0; box-shadow: 0 4px 8px rgba(0,0,0,0.1);\">\n",
    "\n",
    "<div style=\"font-size: 17px; text-align: center; width: 80%; margin: 20px auto; line-height: 1.6; color: #333;\">\n",
    "    \n",
    "<strong>1) Full Join:</strong> This process appends the rows from `case_df` to `control_df` for all columns (they should have same column names).\n",
    "\n",
    "</div>\n",
    "\n",
    "<div style=\"font-size: 17px; text-align: center; width: 80%; margin: 20px auto; line-height: 1.6; color: #333;\">\n",
    "\n",
    "<strong>2) Left Join:</strong> For each `person_id` in `merged_df`, a value of `1` is assigned to the `predictor` column if the ID exists in `condition_df`. Otherwise, the `predictor` column value is set to `NA`.\n",
    "\n",
    "</div>\n",
    "\n",
    "</div>\n"
   ]
  },
  {
   "cell_type": "code",
   "execution_count": 7,
   "id": "37361f37-6bee-48b1-b68b-078c0bae4a11",
   "metadata": {
    "tags": []
   },
   "outputs": [
    {
     "name": "stderr",
     "output_type": "stream",
     "text": [
      "Joining, by = c(\"person_id\", \"sex_at_birth\", \"date_of_birth\", \"race\", \"ethnicity\", \"outcome\")\n"
     ]
    }
   ],
   "source": [
    "# Full join the case and control dfs\n",
    "merged_df <- case_df %>% full_join(control_df)\n",
    "\n",
    "# Left join the condition_df\n",
    "merged_df <- merged_df %>% \n",
    "            left_join(condition_df, by=\"person_id\")"
   ]
  },
  {
   "cell_type": "markdown",
   "id": "26fd3981-0d55-4d3a-9bac-c388cf7c920d",
   "metadata": {},
   "source": [
    "---"
   ]
  },
  {
   "cell_type": "markdown",
   "id": "53050d73-a153-40e6-837d-e8ff89781e32",
   "metadata": {},
   "source": [
    "<div style=\"text-align: center; margin-bottom: 25px; background-color: #E6FFE6; padding: 10px; border-radius: 10px;\">\n",
    "\n",
    "<a id='section_8'></a>\n",
    "\n",
    "<h1 style=\"color: #2E86C1; font-weight: bold;\">8. Replace NAs 🔄</h1>\n",
    "\n",
    "</div>\n",
    "\n",
    "<div style=\"border: 2px solid #2E86C1; padding: 20px; border-radius: 10px; margin: 20px 0; box-shadow: 0 4px 8px rgba(0,0,0,0.1);\">\n",
    "\n",
    "<div style=\"font-size: 17px; text-align: center; width: 80%; margin: 20px auto; line-height: 1.6; color: #333;\">\n",
    "    \n",
    "<strong>Reminder:</strong> Ensure that you fill in the `NA` values with `0`! The only column that should have `NA` values is the `predictor` column.\n",
    "\n",
    "</div>\n",
    "\n",
    "</div>\n",
    "\n"
   ]
  },
  {
   "cell_type": "code",
   "execution_count": 8,
   "id": "4ce359a4-0c1f-4906-9840-f90cf248c6cf",
   "metadata": {
    "tags": []
   },
   "outputs": [],
   "source": [
    "# This takes the NA values created from the left join and makes them the value '0'\n",
    "merged_df[is.na(merged_df)] <- 0"
   ]
  },
  {
   "cell_type": "markdown",
   "id": "9253c3e1-82c9-486e-b451-5f40e462fc07",
   "metadata": {},
   "source": [
    "---"
   ]
  },
  {
   "cell_type": "markdown",
   "id": "81f58ae1-9f6a-427f-9ba4-8e2aaee6a4ad",
   "metadata": {},
   "source": [
    "<div style=\"text-align: center; margin-bottom: 25px; background-color: #E6FFE6; padding: 10px; border-radius: 10px;\">\n",
    "\n",
    "<a id='section_9'></a>\n",
    "\n",
    "<h1 style=\"color: #2E86C1; font-weight: bold;\">9. Factor the Categorical Variables 🔡</h1>\n",
    "\n",
    "</div>\n",
    "\n",
    "<div style=\"border: 2px solid #2E86C1; padding: 20px; border-radius: 10px; margin: 20px 0; box-shadow: 0 4px 8px rgba(0,0,0,0.1);\">\n",
    "\n",
    "<div style=\"font-size: 17px; text-align: center; width: 80%; margin: 20px auto; line-height: 1.6; color: #333;\">\n",
    "    \n",
    "Currently, our `outcome` and `predictor` columns contain integer values. For accurate modeling, it's crucial to transform these integers into categorical variables, or **factors**. Neglecting this step would result in treating our categorical variable as a continuous one, implying a linear relationship with the outcome — a misconception that could lead to errors during logistic regression.\n",
    "\n",
    "Utilizing the `factor()` function allows us to designate the levels (`0` and `1`) with more descriptive labels such as `Atopic Dermatitis Controls` and `Atopic Dermatitis Cases`, enhancing clarity and ensuring proper model interpretation.\n",
    "\n",
    "</div>\n",
    "\n",
    "</div>\n"
   ]
  },
  {
   "cell_type": "code",
   "execution_count": 9,
   "id": "b0ff2d48-8124-4fa8-85f0-2dcb30d0983c",
   "metadata": {
    "tags": []
   },
   "outputs": [],
   "source": [
    "# Factor and relabel the levels for outcome and predictor\n",
    "merged_df$outcome <- factor(merged_df$outcome, levels = c(0, 1), labels = c(paste(condition_1_name, \"Controls\"), paste(condition_1_name, \"Cases\")))\n",
    "merged_df$predictor <- factor(merged_df$predictor, \n",
    "                             levels = c(0, 1), \n",
    "                             labels = c(paste(\"No\", condition_2_name), condition_2_name))\n"
   ]
  },
  {
   "cell_type": "markdown",
   "id": "a7380909-2ffb-4c2b-9abb-07402a536644",
   "metadata": {},
   "source": [
    "<div style=\"border: 2px solid #2E86C1; padding: 20px; border-radius: 10px; margin: 20px 0; box-shadow: 0 4px 8px rgba(0,0,0,0.1);\">\n",
    "\n",
    "<div style=\"font-size: 17px; text-align: center; width: 80%; margin: 20px auto; line-height: 1.6; color: #333;\">\n",
    "    \n",
    "Our demographic variables, namely `sex_at_birth`, `race`, and `ethnicity`, consist of character values. While logistic regression would inherently transform these into factors, proactively handling this conversion is advisable. By doing so, we can review and, if needed, reset the reference level. This foresight facilitates a clearer interpretation of odds ratios later in our analysis.\n",
    "\n",
    "</div>\n",
    "\n",
    "</div>\n"
   ]
  },
  {
   "cell_type": "code",
   "execution_count": 10,
   "id": "cfb3523e-c599-45a9-a639-cfdf3f75b3da",
   "metadata": {
    "tags": []
   },
   "outputs": [],
   "source": [
    "# Factor the demographic variables\n",
    "merged_df$sex_at_birth <- factor(merged_df$sex_at_birth)\n",
    "merged_df$race <- factor(merged_df$race)\n",
    "merged_df$ethnicity <- factor(merged_df$ethnicity)"
   ]
  },
  {
   "cell_type": "code",
   "execution_count": 11,
   "id": "81e0674c-0a27-4309-b938-c15da3411e84",
   "metadata": {
    "tags": []
   },
   "outputs": [
    {
     "data": {
      "text/html": [
       "<ol class=list-inline>\n",
       "\t<li>'Asian'</li>\n",
       "\t<li>'Black or African American'</li>\n",
       "\t<li>'White'</li>\n",
       "</ol>\n"
      ],
      "text/latex": [
       "\\begin{enumerate*}\n",
       "\\item 'Asian'\n",
       "\\item 'Black or African American'\n",
       "\\item 'White'\n",
       "\\end{enumerate*}\n"
      ],
      "text/markdown": [
       "1. 'Asian'\n",
       "2. 'Black or African American'\n",
       "3. 'White'\n",
       "\n",
       "\n"
      ],
      "text/plain": [
       "[1] \"Asian\"                     \"Black or African American\"\n",
       "[3] \"White\"                    "
      ]
     },
     "metadata": {},
     "output_type": "display_data"
    },
    {
     "data": {
      "text/html": [
       "<ol class=list-inline>\n",
       "\t<li>'White'</li>\n",
       "\t<li>'Asian'</li>\n",
       "\t<li>'Black or African American'</li>\n",
       "</ol>\n"
      ],
      "text/latex": [
       "\\begin{enumerate*}\n",
       "\\item 'White'\n",
       "\\item 'Asian'\n",
       "\\item 'Black or African American'\n",
       "\\end{enumerate*}\n"
      ],
      "text/markdown": [
       "1. 'White'\n",
       "2. 'Asian'\n",
       "3. 'Black or African American'\n",
       "\n",
       "\n"
      ],
      "text/plain": [
       "[1] \"White\"                     \"Asian\"                    \n",
       "[3] \"Black or African American\""
      ]
     },
     "metadata": {},
     "output_type": "display_data"
    }
   ],
   "source": [
    "# Check levels..change variable name 'race' to relevel other demographics\n",
    "levels(merged_df$race)\n",
    "# Reset the race reference level to 'White'\n",
    "merged_df$race <- relevel(merged_df$race, ref=\"White\")\n",
    "levels(merged_df$race)"
   ]
  },
  {
   "cell_type": "markdown",
   "id": "72669aaf-248a-4e07-953d-416cfab30732",
   "metadata": {},
   "source": [
    "---"
   ]
  },
  {
   "cell_type": "markdown",
   "id": "95952cc4-dfec-4fad-85ee-01b5e4eb238f",
   "metadata": {},
   "source": [
    "<div style=\"text-align: center; margin-bottom: 25px; background-color: #E6FFE6; padding: 10px; border-radius: 10px;\">\n",
    "\n",
    "<a id='section_10'></a>\n",
    "\n",
    "<h1 style=\"color: #2E86C1; font-weight: bold;\">10. Calculate Age 📅</h1>\n",
    "\n",
    "</div>\n",
    "\n",
    "<div style=\"border: 2px solid #2E86C1; padding: 20px; border-radius: 10px; margin: 20px 0; box-shadow: 0 4px 8px rgba(0,0,0,0.1);\">\n",
    "\n",
    "<div style=\"font-size: 17px; text-align: center; width: 80%; margin: 20px auto; line-height: 1.6; color: #333;\">\n",
    "    \n",
    "To compute the age at the time of primary consent, refer to the [User Support Hub](https://support.researchallofus.org/hc/en-us/articles/13176125767188-How-to-find-participant-enrollment-data). The link provides the necessary SQL code to fetch the `person_id` alongside the corresponding `primary_consent_date` for all participants in the All of Us database. For accurate age calculation, replace `today` with an appropriate variable name and substitute `Sys.Date()` with the provided SQL code.\n",
    "    \n",
    "This will give us a continuous `age` variable and a categorical `age_group` variable.\n",
    "\n",
    "</div>\n",
    "\n",
    "</div>\n"
   ]
  },
  {
   "cell_type": "code",
   "execution_count": 12,
   "id": "ef9f3601-0af5-4d71-9833-ab2eff982924",
   "metadata": {
    "tags": []
   },
   "outputs": [],
   "source": [
    "# Get today's date\n",
    "today = Sys.Date()\n",
    "\n",
    "# Convert the character string to a date object by stripping the time portion\n",
    "# sub(\" .*\", \"\") is saying any character after the space should be deleted from the string\n",
    "birthdate <- as.Date(sub(\" .*\", \"\", merged_df$date_of_birth))\n",
    "\n",
    "# Calculate age in years\n",
    "age <- as.integer(difftime(today, birthdate, units = \"days\") / 365.25)\n",
    "\n",
    "# Assign a new column called 'age' in merged_df\n",
    "merged_df$age <- age\n",
    "\n",
    "# Create age groups\n",
    "merged_df$age_group <- cut(merged_df$age,\n",
    "                    breaks=c(18, 29, 39, 49, 59, 69, 79, 110), \n",
    "                    labels=c('18-29', '30-39', '40-49', '50-59', '60-69', '70-79', '80+'))\n",
    "\n",
    "merged_df$age_group <- droplevels(merged_df$age_group)"
   ]
  },
  {
   "cell_type": "markdown",
   "id": "41c13ec7-c71d-4d91-8027-cf23e37475b1",
   "metadata": {},
   "source": [
    "---"
   ]
  },
  {
   "cell_type": "markdown",
   "id": "2751a987-ecd0-42b6-bacb-537866137da6",
   "metadata": {},
   "source": [
    "<div style=\"text-align: center; margin-bottom: 25px; background-color: #E6FFE6; padding: 10px; border-radius: 10px;\">\n",
    "\n",
    "<a id='section_11'></a>\n",
    "\n",
    "<h1 style=\"color: #2E86C1; font-weight: bold;\">11. Explore Cleaned Data 🔍</h1>\n",
    "\n",
    "</div>\n",
    "\n",
    "<div style=\"border: 2px solid #2E86C1; padding: 20px; border-radius: 10px; margin: 20px 0; box-shadow: 0 4px 8px rgba(0,0,0,0.1);\">\n",
    "\n",
    "<div style=\"font-size: 17px; text-align: center; width: 80%; margin: 20px auto; line-height: 1.6; color: #333;\">\n",
    "    \n",
    "Inspect the first 6 rows of `merged_df` and review its dimensions to understand the structure of the cleaned dataset.\n",
    "\n",
    "</div>\n",
    "\n",
    "</div>\n"
   ]
  },
  {
   "cell_type": "code",
   "execution_count": 13,
   "id": "8a132f84-35ba-4454-93d9-8362ec9c0560",
   "metadata": {
    "tags": []
   },
   "outputs": [
    {
     "data": {
      "text/html": [
       "<table>\n",
       "<thead><tr><th scope=col>person_id</th><th scope=col>sex_at_birth</th><th scope=col>date_of_birth</th><th scope=col>race</th><th scope=col>ethnicity</th><th scope=col>outcome</th><th scope=col>predictor</th><th scope=col>age</th><th scope=col>age_group</th></tr></thead>\n",
       "<tbody>\n",
       "\t<tr><td>1                        </td><td>Male                     </td><td>1989-11-26 01:06:35 UTC  </td><td>White                    </td><td>Hispanic or Latino       </td><td>Atopic Dermatitis Cases  </td><td>Chronic Sinusitis        </td><td>33                       </td><td>30-39                    </td></tr>\n",
       "\t<tr><td>2                        </td><td>Female                   </td><td>1958-12-02 04:34:42 UTC  </td><td>White                    </td><td>Not Hispanic or Latino   </td><td>Atopic Dermatitis Cases  </td><td>Chronic Sinusitis        </td><td>64                       </td><td>60-69                    </td></tr>\n",
       "\t<tr><td>3                        </td><td>Female                   </td><td>1967-12-06 22:24:21 UTC  </td><td>Asian                    </td><td>Not Hispanic or Latino   </td><td>Atopic Dermatitis Cases  </td><td>Chronic Sinusitis        </td><td>55                       </td><td>50-59                    </td></tr>\n",
       "\t<tr><td>4                        </td><td>Male                     </td><td>1956-11-17 12:41:30 UTC  </td><td>White                    </td><td>Not Hispanic or Latino   </td><td>Atopic Dermatitis Cases  </td><td>Chronic Sinusitis        </td><td>66                       </td><td>60-69                    </td></tr>\n",
       "\t<tr><td>5                        </td><td>Female                   </td><td>1996-05-25 13:56:34 UTC  </td><td>Black or African American</td><td>Not Hispanic or Latino   </td><td>Atopic Dermatitis Cases  </td><td>No Chronic Sinusitis     </td><td>27                       </td><td>18-29                    </td></tr>\n",
       "\t<tr><td>6                        </td><td>Male                     </td><td>1994-08-07 22:43:40 UTC  </td><td>Asian                    </td><td>Hispanic or Latino       </td><td>Atopic Dermatitis Cases  </td><td>No Chronic Sinusitis     </td><td>29                       </td><td>18-29                    </td></tr>\n",
       "</tbody>\n",
       "</table>\n"
      ],
      "text/latex": [
       "\\begin{tabular}{r|lllllllll}\n",
       " person\\_id & sex\\_at\\_birth & date\\_of\\_birth & race & ethnicity & outcome & predictor & age & age\\_group\\\\\n",
       "\\hline\n",
       "\t 1                         & Male                      & 1989-11-26 01:06:35 UTC   & White                     & Hispanic or Latino        & Atopic Dermatitis Cases   & Chronic Sinusitis         & 33                        & 30-39                    \\\\\n",
       "\t 2                         & Female                    & 1958-12-02 04:34:42 UTC   & White                     & Not Hispanic or Latino    & Atopic Dermatitis Cases   & Chronic Sinusitis         & 64                        & 60-69                    \\\\\n",
       "\t 3                         & Female                    & 1967-12-06 22:24:21 UTC   & Asian                     & Not Hispanic or Latino    & Atopic Dermatitis Cases   & Chronic Sinusitis         & 55                        & 50-59                    \\\\\n",
       "\t 4                         & Male                      & 1956-11-17 12:41:30 UTC   & White                     & Not Hispanic or Latino    & Atopic Dermatitis Cases   & Chronic Sinusitis         & 66                        & 60-69                    \\\\\n",
       "\t 5                         & Female                    & 1996-05-25 13:56:34 UTC   & Black or African American & Not Hispanic or Latino    & Atopic Dermatitis Cases   & No Chronic Sinusitis      & 27                        & 18-29                    \\\\\n",
       "\t 6                         & Male                      & 1994-08-07 22:43:40 UTC   & Asian                     & Hispanic or Latino        & Atopic Dermatitis Cases   & No Chronic Sinusitis      & 29                        & 18-29                    \\\\\n",
       "\\end{tabular}\n"
      ],
      "text/markdown": [
       "\n",
       "| person_id | sex_at_birth | date_of_birth | race | ethnicity | outcome | predictor | age | age_group |\n",
       "|---|---|---|---|---|---|---|---|---|\n",
       "| 1                         | Male                      | 1989-11-26 01:06:35 UTC   | White                     | Hispanic or Latino        | Atopic Dermatitis Cases   | Chronic Sinusitis         | 33                        | 30-39                     |\n",
       "| 2                         | Female                    | 1958-12-02 04:34:42 UTC   | White                     | Not Hispanic or Latino    | Atopic Dermatitis Cases   | Chronic Sinusitis         | 64                        | 60-69                     |\n",
       "| 3                         | Female                    | 1967-12-06 22:24:21 UTC   | Asian                     | Not Hispanic or Latino    | Atopic Dermatitis Cases   | Chronic Sinusitis         | 55                        | 50-59                     |\n",
       "| 4                         | Male                      | 1956-11-17 12:41:30 UTC   | White                     | Not Hispanic or Latino    | Atopic Dermatitis Cases   | Chronic Sinusitis         | 66                        | 60-69                     |\n",
       "| 5                         | Female                    | 1996-05-25 13:56:34 UTC   | Black or African American | Not Hispanic or Latino    | Atopic Dermatitis Cases   | No Chronic Sinusitis      | 27                        | 18-29                     |\n",
       "| 6                         | Male                      | 1994-08-07 22:43:40 UTC   | Asian                     | Hispanic or Latino        | Atopic Dermatitis Cases   | No Chronic Sinusitis      | 29                        | 18-29                     |\n",
       "\n"
      ],
      "text/plain": [
       "  person_id sex_at_birth date_of_birth           race                     \n",
       "1 1         Male         1989-11-26 01:06:35 UTC White                    \n",
       "2 2         Female       1958-12-02 04:34:42 UTC White                    \n",
       "3 3         Female       1967-12-06 22:24:21 UTC Asian                    \n",
       "4 4         Male         1956-11-17 12:41:30 UTC White                    \n",
       "5 5         Female       1996-05-25 13:56:34 UTC Black or African American\n",
       "6 6         Male         1994-08-07 22:43:40 UTC Asian                    \n",
       "  ethnicity              outcome                 predictor            age\n",
       "1 Hispanic or Latino     Atopic Dermatitis Cases Chronic Sinusitis    33 \n",
       "2 Not Hispanic or Latino Atopic Dermatitis Cases Chronic Sinusitis    64 \n",
       "3 Not Hispanic or Latino Atopic Dermatitis Cases Chronic Sinusitis    55 \n",
       "4 Not Hispanic or Latino Atopic Dermatitis Cases Chronic Sinusitis    66 \n",
       "5 Not Hispanic or Latino Atopic Dermatitis Cases No Chronic Sinusitis 27 \n",
       "6 Hispanic or Latino     Atopic Dermatitis Cases No Chronic Sinusitis 29 \n",
       "  age_group\n",
       "1 30-39    \n",
       "2 60-69    \n",
       "3 50-59    \n",
       "4 60-69    \n",
       "5 18-29    \n",
       "6 18-29    "
      ]
     },
     "metadata": {},
     "output_type": "display_data"
    },
    {
     "data": {
      "text/html": [
       "<ol class=list-inline>\n",
       "\t<li>1500</li>\n",
       "\t<li>9</li>\n",
       "</ol>\n"
      ],
      "text/latex": [
       "\\begin{enumerate*}\n",
       "\\item 1500\n",
       "\\item 9\n",
       "\\end{enumerate*}\n"
      ],
      "text/markdown": [
       "1. 1500\n",
       "2. 9\n",
       "\n",
       "\n"
      ],
      "text/plain": [
       "[1] 1500    9"
      ]
     },
     "metadata": {},
     "output_type": "display_data"
    }
   ],
   "source": [
    "head(merged_df)\n",
    "dim(merged_df)"
   ]
  },
  {
   "cell_type": "markdown",
   "id": "2f38b72a-c437-4c35-ac09-c1bd5b8ecf30",
   "metadata": {},
   "source": [
    "<div style=\"text-align: center; margin-bottom: 20px; background-color: #E6FFE6; padding: 8px; border-radius: 8px;\">\n",
    "\n",
    "<a id='subsection_11_1'></a>\n",
    "\n",
    "<h2 style=\"color: #2E86C1; font-weight: bold;\">11.1 Numerical Summary 🧮</h2>\n",
    "\n",
    "</div>\n"
   ]
  },
  {
   "cell_type": "code",
   "execution_count": 14,
   "id": "41f65c20-a3ba-402f-939d-5885de8bf80e",
   "metadata": {
    "tags": []
   },
   "outputs": [
    {
     "data": {
      "text/markdown": [
       "\n",
       "\n",
       "|                                                   | Atopic Dermatitis Controls (N=1000) | Atopic Dermatitis Cases (N=500) | p value|\n",
       "|:--------------------------------------------------|:-----------------------------------:|:-------------------------------:|-------:|\n",
       "|**Age**                                            |                                     |                                 |   0.201|\n",
       "|&nbsp;&nbsp;&nbsp;Mean (SD)                        |           50.008 (16.564)           |         48.828 (17.372)         |        |\n",
       "|**Sex**                                            |                                     |                                 |   0.798|\n",
       "|&nbsp;&nbsp;&nbsp;Female (reference)               |             489 (48.9%)             |           241 (48.2%)           |        |\n",
       "|&nbsp;&nbsp;&nbsp;Male                             |             511 (51.1%)             |           259 (51.8%)           |        |\n",
       "|**Race**                                           |                                     |                                 |   0.205|\n",
       "|&nbsp;&nbsp;&nbsp;White (reference)                |             360 (36.0%)             |           157 (31.4%)           |        |\n",
       "|&nbsp;&nbsp;&nbsp;Asian                            |             307 (30.7%)             |           167 (33.4%)           |        |\n",
       "|&nbsp;&nbsp;&nbsp;Black or African American        |             333 (33.3%)             |           176 (35.2%)           |        |\n",
       "|**Ethnicity**                                      |                                     |                                 |   0.324|\n",
       "|&nbsp;&nbsp;&nbsp;Hispanic or Latino (reference)   |             481 (48.1%)             |           254 (50.8%)           |        |\n",
       "|&nbsp;&nbsp;&nbsp;Not Hispanic or Latino           |             519 (51.9%)             |           246 (49.2%)           |        |\n",
       "|**Chronic Sinusitis**                              |                                     |                                 | < 0.001|\n",
       "|&nbsp;&nbsp;&nbsp;No Chronic Sinusitis (reference) |             799 (79.9%)             |           357 (71.4%)           |        |\n",
       "|&nbsp;&nbsp;&nbsp;Chronic Sinusitis                |             201 (20.1%)             |           143 (28.6%)           |        |\n"
      ]
     },
     "metadata": {},
     "output_type": "display_data"
    }
   ],
   "source": [
    "# This outputs a count/mean table for the all the variables in the analysis.\n",
    "# It performs a chi-square for counts and t-test for means.\n",
    "\n",
    "mycontrol<-tableby.control(\n",
    "  test = T,\n",
    "  total = F,\n",
    "  numeric.test = \"anova\", cat.test = \"chisq\",\n",
    "  numeric.stats = c(\"meansd\"),\n",
    "  cat.stats = c(\"countpct\"),\n",
    "  stats.labels = list(\n",
    "    meansd = \"Mean (SD)\"\n",
    "  )\n",
    ")\n",
    "\n",
    "my_labels <- list(\n",
    "  sex_at_birth = \"Sex\",\n",
    "  race = \"Race\",\n",
    "  ethnicity = \"Ethnicity\",\n",
    "  age = \"Age\",\n",
    "  predictor = condition_2_name,\n",
    "  outcome = condition_1_name\n",
    ")\n",
    "\n",
    "append_ref_to_label <- function(data, exclude_var) {\n",
    "  for (var in setdiff(names(data)[sapply(data, is.factor)], exclude_var)) {\n",
    "    levels(data[[var]]) <- ifelse(levels(data[[var]]) == levels(data[[var]])[1], \n",
    "                                  paste0(levels(data[[var]]), \" (reference)\"), \n",
    "                                  levels(data[[var]]))\n",
    "  }\n",
    "  return(data)\n",
    "}\n",
    "\n",
    "labelled_df <- append_ref_to_label(merged_df, exclude_var = \"outcome\")\n",
    "\n",
    "table_two <- tableby(outcome~age + sex_at_birth + race + ethnicity + predictor,\n",
    "  data = labelled_df,\n",
    "  control = mycontrol\n",
    ")\n",
    "\n",
    "\n",
    "# Capture the printed output of the summary object as a character vector\n",
    "table_output <- capture.output(\n",
    "  print(\n",
    "    summary(table_two,\n",
    "      labelTranslations = my_labels,\n",
    "      title = \"Summary Statistics of Data\"\n",
    "    )\n",
    "  )\n",
    ")\n",
    "\n",
    "# Collapse the character vector into a single string with a newline character as the separator\n",
    "markdown_table <- paste(table_output, collapse = \"\\n\")\n",
    "\n",
    "# Display the markdown table directly in the output cell\n",
    "display_markdown(markdown_table)\n"
   ]
  },
  {
   "cell_type": "markdown",
   "id": "fa92850a-1ec9-4938-b1ba-5b6313d4e975",
   "metadata": {},
   "source": [
    "<div style=\"text-align: center; margin-bottom: 20px; background-color: #E6FFE6; padding: 8px; border-radius: 8px;\">\n",
    "\n",
    "<a id='subsection_11_2'></a>\n",
    "\n",
    "<h2 style=\"color: #2E86C1; font-weight: bold;\">11.2 Graphical Summaries 📊</h2>\n",
    "\n",
    "</div>\n"
   ]
  },
  {
   "cell_type": "markdown",
   "id": "f42a2631-591f-4dc6-b68e-923565365d4d",
   "metadata": {},
   "source": [
    "<div style=\"text-align: center; margin-bottom: 15px; background-color: #E6FFE6; padding: 6px; border-radius: 6px;\">\n",
    "\n",
    "<a id='subsection_11_2_1'></a>\n",
    "\n",
    "<h4 style=\"color: #2E86C1; font-weight: bold;\">11.2.1 Density/Histogram Plot</h4>\n",
    "\n",
    "</div>\n",
    "\n",
    "<div style=\"border: 2px solid #2E86C1; padding: 20px; border-radius: 10px; margin: 20px 0; box-shadow: 0 4px 8px rgba(0,0,0,0.1);\">\n",
    "\n",
    "<div style=\"font-size: 17px; text-align: center; width: 80%; margin: 20px auto; line-height: 1.6; color: #333;\">\n",
    "This provides a <strong>density/histogram plot of age</strong> in the case and control groups. For this template, <code>age</code> is the only numeric value.\n",
    "\n",
    "</div>\n",
    "\n",
    "</div>\n"
   ]
  },
  {
   "cell_type": "code",
   "execution_count": 15,
   "id": "114c1ad0-6b2a-49a1-bbb8-2fb2745a539e",
   "metadata": {},
   "outputs": [
    {
     "data": {
      "image/png": "[encoded data removed]",
      "text/plain": [
       "plot without title"
      ]
     },
     "metadata": {},
     "output_type": "display_data"
    }
   ],
   "source": [
    "# Set the figure size parameters to make the plot smaller\n",
    "options(\n",
    "  repr.plot.width = 7,   # Width in inches\n",
    "  repr.plot.height = 4  # Height in inches\n",
    ")\n",
    "\n",
    "# Initialize density plot with histogram overlay\n",
    "ggplot(data = merged_df, aes(x = age, fill = outcome)) +\n",
    "  scale_fill_manual(values = c(\"purple\", \"darkseagreen\"), name = \"Outcome\") +\n",
    "  facet_wrap(~outcome) +\n",
    "  geom_histogram(aes(y = ..density..), binwidth = 5, colour = \"black\", fill = \"white\") +\n",
    "  geom_density(alpha = 0.5) +\n",
    "  labs(x = \"Age\", y = \"Density\", title = \"Distribution of Age By Case/Control\") +\n",
    "  theme_minimal() \n",
    "\n"
   ]
  },
  {
   "cell_type": "markdown",
   "id": "38afe940-e481-4989-aa92-6a883bb40179",
   "metadata": {},
   "source": [
    "<div style=\"text-align: center; margin-bottom: 15px; background-color: #E6FFE6; padding: 6px; border-radius: 6px;\">\n",
    "\n",
    "<a id='subsection_11_2_2'></a>\n",
    "\n",
    "<h4 style=\"color: #2E86C1; font-weight: bold;\">11.2.2 Bar Plot</h4>\n",
    "\n",
    "</div>\n",
    "\n",
    "<div style=\"border: 2px solid #2E86C1; padding: 20px; border-radius: 10px; margin: 20px 0; box-shadow: 0 4px 8px rgba(0,0,0,0.1);\">\n",
    "\n",
    "<div style=\"font-size: 17px; text-align: center; width: 80%; margin: 20px auto; line-height: 1.6; color: #333;\">\n",
    "\n",
    "This provides a <strong>bar plot of categorical values</strong> in the case and control groups. <strong>Replace the value</strong> assigned to <code>categorical_variable</code> with the column name you would like to observe (i.e. <font color=\"red\">\"sex_at_birth\"</font>). Also, <strong>replace the name</strong> for <code>label</code> with the name you would like to display for the column in the graph (i.e. <font color=\"red\">\"Sex\"</font>)\n",
    "\n",
    "</div>\n",
    "\n",
    "</div>"
   ]
  },
  {
   "cell_type": "code",
   "execution_count": 16,
   "id": "63e0ff1e-2597-488c-a259-d05b7357b0f1",
   "metadata": {},
   "outputs": [
    {
     "data": {
      "image/png": "[encoded data removed]",
      "text/plain": [
       "plot without title"
      ]
     },
     "metadata": {},
     "output_type": "display_data"
    }
   ],
   "source": [
    "# Specify the column name for the categorical variable\n",
    "categorical_variable <- \"sex_at_birth\"\n",
    "label <- \"Sex\"\n",
    "\n",
    "# Set the figure size (width and height) in inches\n",
    "options(\n",
    "  repr.plot.width = 10,   # Width in inches\n",
    "  repr.plot.height = 7  # Height in inches\n",
    ")\n",
    "\n",
    "# Calculating percentage for bar plot\n",
    "outcome_barplot <- merged_df %>%\n",
    "  group_by(!!sym(categorical_variable), outcome) %>%\n",
    "  summarise(n = n()) %>%\n",
    "  group_by(outcome) %>%\n",
    "  mutate(perc = 100 * n / sum(n))\n",
    "\n",
    "# Initialize bar plot using the specified x variable\n",
    "ggplot(outcome_barplot, aes(x = !!sym(categorical_variable), y = perc / 100, fill = !!sym(categorical_variable))) +\n",
    "# Using Brewer colors\n",
    "scale_fill_brewer(palette = \"Set3\", name = label) +\n",
    "  geom_bar(stat = \"identity\") +\n",
    "# Replace xlab with categorical value name\n",
    "  xlab(label) + ylab(\"Proportion\") +\n",
    "# Replace ggtitle with categorical value name\n",
    "  ggtitle(paste(\"Proportion of\", label,  \"for Case/Control Groups\")) +\n",
    "  facet_wrap(~outcome) +\n",
    "  geom_text(aes(label = sprintf(\"%.02f %%\", perc), vjust = 1.5, hjust = 0.41)) +\n",
    "  theme_bw()\n"
   ]
  },
  {
   "cell_type": "markdown",
   "id": "fa2ed525-68da-42b5-98be-16707037cd2d",
   "metadata": {},
   "source": [
    "---\n",
    "<div style=\"text-align: center; margin-bottom: 25px; background-color: #E6FFE6; padding: 10px; border-radius: 10px;\">\n",
    "\n",
    "<a id='section_12'></a>\n",
    "\n",
    "<h1 style=\"color: #2E86C1; font-weight: bold;\">12. Statistical Analysis 📈🧐</h1>\n",
    "\n",
    "</div>\n",
    "\n",
    "<div style=\"border: 2px solid #2E86C1; padding: 20px; border-radius: 10px; margin: 20px 0; box-shadow: 0 4px 8px rgba(0,0,0,0.1);\">\n",
    "\n",
    "<div style=\"font-size: 17px; text-align: center; width: 80%; margin: 20px auto; line-height: 1.6; color: #333;\">\n",
    "    \n",
    "**You have the option to run all the tests listed below, or simply select the specific one you need and execute the cells below it.** \n",
    "\n",
    "</div>\n",
    "\n",
    "</div>"
   ]
  },
  {
   "cell_type": "markdown",
   "id": "b1a34d58-76cd-4006-b75d-d4ccec0e6719",
   "metadata": {},
   "source": [
    "<div style=\"text-align: center; margin-bottom: 20px; background-color: #E6FFE6; padding: 8px; border-radius: 8px;\">\n",
    "\n",
    "<a id='subsection_12_1'></a>\n",
    "\n",
    "<h2 style=\"color: #2E86C1; font-weight: bold;\">12.1 Pearson's Chi-Square Test</h2>\n",
    "\n",
    "</div>\n",
    "\n",
    "<div style=\"border: 2px solid #2E86C1; padding: 20px; border-radius: 10px; margin: 20px 0; box-shadow: 0 4px 8px rgba(0,0,0,0.1);\">\n",
    "\n",
    "<div style=\"font-size: 17px; text-align: center; width: 80%; margin: 20px auto; line-height: 1.6; color: #333;\">\n",
    "    \n",
    "A **2x2 contingency table** named `chisq_table` is constructed to display the counts for each condition and outcome category. Subsequently, a **Pearson's Chi-Square Test** is conducted using this contingency table to analyze the relationship between the condition and outcome variables.\n",
    "\n",
    "</div>\n",
    "\n",
    "</div>"
   ]
  },
  {
   "cell_type": "code",
   "execution_count": 17,
   "id": "092a7051-113c-4918-8c7f-86c256684a61",
   "metadata": {},
   "outputs": [
    {
     "data": {
      "text/plain": [
       "                      \n",
       "                       Atopic Dermatitis Controls Atopic Dermatitis Cases\n",
       "  No Chronic Sinusitis                        799                     357\n",
       "  Chronic Sinusitis                           201                     143"
      ]
     },
     "metadata": {},
     "output_type": "display_data"
    }
   ],
   "source": [
    "# Replace the word 'predictor' with the column name you would like to test against the outcome.\n",
    "chisq_table <- table(merged_df$predictor, merged_df$outcome)\n",
    "chisq_table"
   ]
  },
  {
   "cell_type": "code",
   "execution_count": 18,
   "id": "ee840359-3a8e-4b0b-b5f3-a0079a552fea",
   "metadata": {},
   "outputs": [
    {
     "data": {
      "text/plain": [
       "\n",
       "\tPearson's Chi-squared test\n",
       "\n",
       "data:  chisq_table\n",
       "X-squared = 13.626, df = 1, p-value = 0.000223\n"
      ]
     },
     "metadata": {},
     "output_type": "display_data"
    }
   ],
   "source": [
    "# Run test and save the results\n",
    "chisq <- chisq.test(chisq_table, correct = FALSE)\n",
    "chisq"
   ]
  },
  {
   "cell_type": "markdown",
   "id": "f49fa7b7-8492-4f2a-824a-b7c3a2088721",
   "metadata": {},
   "source": [
    "\n",
    "\n",
    "<div class=\"alert alert-block alert-warning\">\n",
    "    <b>Interpreting the Pearson's Chi-squared Test:</b> \n",
    "    <ul>\n",
    "        <li><b>data:</b> A table (<code>chisq_table</code>) derived from comparing <code>predictor</code> against <code>outcome</code>.</li>\n",
    "        <li><b>X-squared (13.626):</b> A significant difference between observed and expected counts.</li>\n",
    "        <li><b>df (1):</b> One degree of freedom, hinting at a 2x2 table structure.</li>\n",
    "        <li><b>p-value (0.000223):</b> Extremely low, indicating the predictor and outcome are not independent; there's a significant association between them.</li>\n",
    "    </ul>\n",
    "    <b>Overall:</b> The data suggests a strong association between <code>predictor</code> and <code>outcome</code> in <code>merged_df</code>. The observed relationships in the table are unlikely due to random chance.<br><br>\n",
    "    <i>Remember: A low p-value hints at statistical significance, but always consider real-world relevance.</i>\n",
    "</div>\n",
    "\n"
   ]
  },
  {
   "cell_type": "markdown",
   "id": "e9c9e88c-d5a0-4951-ba94-1a5a285445b6",
   "metadata": {},
   "source": [
    "<div style=\"text-align: center; margin-bottom: 20px; background-color: #E6FFE6; padding: 8px; border-radius: 8px;\">\n",
    "\n",
    "<a id='subsection_12_2'></a>\n",
    "\n",
    "<h2 style=\"color: #2E86C1; font-weight: bold;\">12.2 Variance Test and T-Test</h2>\n",
    "\n",
    "</div>\n",
    "\n",
    "<div style=\"border: 2px solid #2E86C1; padding: 20px; border-radius: 10px; margin: 20px 0; box-shadow: 0 4px 8px rgba(0,0,0,0.1);\">\n",
    "\n",
    "<div style=\"font-size: 17px; text-align: center; width: 80%; margin: 20px auto; line-height: 1.6; color: #333;\">\n",
    "    \n",
    "A **variance test** and a **t-test** are ran below for `age`, a quantitative variable. This compares the **mean age** between the case and control groups.\n",
    "\n",
    "</div>\n",
    "\n",
    "</div>"
   ]
  },
  {
   "cell_type": "code",
   "execution_count": 19,
   "id": "753cb3d4-6f76-4063-abc6-4cb5ae5442f9",
   "metadata": {},
   "outputs": [
    {
     "data": {
      "text/plain": [
       "\n",
       "\tF test to compare two variances\n",
       "\n",
       "data:  age by outcome\n",
       "F = 0.90918, num df = 999, denom df = 499, p-value = 0.214\n",
       "alternative hypothesis: true ratio of variances is not equal to 1\n",
       "95 percent confidence interval:\n",
       " 0.7793797 1.0564500\n",
       "sample estimates:\n",
       "ratio of variances \n",
       "          0.909177 \n"
      ]
     },
     "metadata": {},
     "output_type": "display_data"
    }
   ],
   "source": [
    "# Test for equality of variance before performing t-test\n",
    "var.test(age ~ outcome, data=merged_df, alternative = \"two.sided\", conf.level=0.95)"
   ]
  },
  {
   "cell_type": "markdown",
   "id": "770f23a3-5272-4231-96a3-043ed00fed38",
   "metadata": {
    "tags": []
   },
   "source": [
    "<div class=\"alert alert-block alert-warning\">\n",
    "    <b>Interpreting the F Test:</b>\n",
    "    <ul>\n",
    "        <li><b>data:</b> Testing variances of <code>age</code> grouped by <code>outcome</code>.</li>\n",
    "        <li><b>F (0.90918):</b> The F value; represents the ratio of the two variances. It's close to 1, suggesting the variances might be similar.</li>\n",
    "        <li><b>num df (999) and denom df (499):</b> Degrees of freedom for each group, relating to the sample sizes.</li>\n",
    "        <li><b>p-value (0.214):</b> Probability that the observed differences in variances could occur by chance. This indicates the variances are likely similar.</li>\n",
    "        <li><b>95 percent confidence interval (0.7793797 to 1.0564500):</b> We're 95% confident that the true ratio of variances lies in this range. Since it includes 1, it supports the notion of equal variances.</li>\n",
    "        <li><b>ratio of variances (0.909177):</b> This estimate is close to 1, reinforcing the idea that the variances from the two groups are comparable.</li>\n",
    "    </ul>\n",
    "    <b>Overall:</b> There's no strong evidence to suggest a difference in variances of <code>age</code> between the different <code>outcome</code> groups. Subsequent analyses, like t-tests, can assume equal variances.\n",
    "</div>\n"
   ]
  },
  {
   "cell_type": "code",
   "execution_count": 20,
   "id": "e4baac48-8710-415d-a8cc-8b4db00e79aa",
   "metadata": {},
   "outputs": [
    {
     "data": {
      "text/plain": [
       "\n",
       "\tTwo Sample t-test\n",
       "\n",
       "data:  merged_df$age by merged_df$outcome\n",
       "t = 1.2795, df = 1498, p-value = 0.2009\n",
       "alternative hypothesis: true difference in means is not equal to 0\n",
       "95 percent confidence interval:\n",
       " -0.6289653  2.9889653\n",
       "sample estimates:\n",
       "mean in group Atopic Dermatitis Controls \n",
       "                                  50.008 \n",
       "   mean in group Atopic Dermatitis Cases \n",
       "                                  48.828 \n"
      ]
     },
     "metadata": {},
     "output_type": "display_data"
    }
   ],
   "source": [
    "# Test for difference in mean age between cases and controls\n",
    "t.test(merged_df$age ~ merged_df$outcome, var.equal = TRUE, conf.level=0.95)"
   ]
  },
  {
   "cell_type": "markdown",
   "id": "d73480b9-17b8-4a5f-8621-9a97417069ff",
   "metadata": {
    "tags": []
   },
   "source": [
    "<div class=\"alert alert-block alert-warning\">\n",
    "    <b>Interpreting the Two Sample t-test:</b>\n",
    "    <ul>\n",
    "        <li><b>data:</b> Comparing means of <code>age</code> between the two groups defined by <code>outcome</code> (Controls and Cases).</li>\n",
    "        <li><b>t (1.2795):</b> The t-value; represents the difference in means relative to the variation within groups. A value close to 0 suggests similar group means, and a value further from 0 suggests a potential significant difference between the group means.</li>\n",
    "        <li><b>df (1498):</b> Degrees of freedom, calculated from the sample sizes minus 2 (since it's a two-sample t-test).</li>\n",
    "        <li><b>p-value (0.2009):</b> Indicates a probability of 20.09% that the observed difference in means could happen by chance. This suggests no significant difference in means at the conventional 0.05 significance level.</li>\n",
    "        <li><b>95 percent confidence interval (-0.6289653 to 2.9889653):</b> We're 95% confident that the true difference in means lies within this range. Given it spans zero, it suggests the difference is not statistically significant.</li>\n",
    "        <li><b>mean in group:</b> The average age in <code>Atopic Dermatitis Controls</code> is about 50.008 years while in <code>Atopic Dermatitis Cases</code> it's roughly 48.828 years — there’s a small difference in the means, but it’s not statistically significant based on the p-value.</li>\n",
    "    </ul>\n",
    "    <b>Overall:</b> There appears to be no statistically significant difference in the mean age between Atopic Dermatitis Controls and Atopic Dermatitis Cases in <code>merged_df</code>.\n",
    "</div>\n",
    "\n",
    "\n"
   ]
  },
  {
   "cell_type": "markdown",
   "id": "44fff1fe-97c4-4d90-8c38-fd44915dc9a0",
   "metadata": {
    "tags": []
   },
   "source": [
    "<div style=\"text-align: center; margin-bottom: 20px; background-color: #E6FFE6; padding: 8px; border-radius: 8px;\">\n",
    "\n",
    "<a id='subsection_12_3'></a>\n",
    "\n",
    "<h2 style=\"color: #2E86C1; font-weight: bold;\">12.3 Logistic Regressions</h2>\n",
    "\n",
    "</div>"
   ]
  },
  {
   "cell_type": "markdown",
   "id": "bf717f9f-f2ac-4d7b-a541-60856fc84462",
   "metadata": {
    "tags": []
   },
   "source": [
    "<div style=\"text-align: center; margin-bottom: 15px; background-color: #E6FFE6; padding: 6px; border-radius: 6px;\">\n",
    "<a id='subsection_12_3_1'></a>\n",
    "<h4 style=\"color: #2E86C1; font-weight: bold;\">12.3.1 Unadjusted Logistic Regression</h4>\n",
    "</div>\n",
    "\n",
    "<div style=\"border: 2px solid #2E86C1; padding: 20px; border-radius: 10px; margin: 20px 0; box-shadow: 0 4px 8px rgba(0,0,0,0.1);\">\n",
    "<div style=\"font-size: 17px; text-align: center; width: 80%; margin: 20px auto; line-height: 1.6; color: #333;\">\n",
    "\n",
    "Welcome to the section on **Unadjusted Logistic Regression**. This statistical method, also known as \"simple\" or \"bivariate\" logistic regression, serves as a foundational approach to understand the relationship between a binary response variable and a single predictor.\n",
    "\n",
    "Here are some key components to grasp:\n",
    "\n",
    "- **Response Variable:** At its core, this method requires a binary outcome. Think of results like Yes/No, 1/0, or Success/Failure.\n",
    "\n",
    "- **Predictor Variable:** This can be either categorical, such as gender, or continuous like age. For instance, one might be investigating the effect of gender on the odds of developing a certain disease.\n",
    "\n",
    "- **Odds Ratio (OR):** A crucial metric in logistic regression. The OR informs us about the change in odds of the outcome for a one-unit increase in the predictor. An OR of 1 indicates no effect of the predictor on the outcome. An OR greater than 1 means the outcome becomes more likely as the predictor increases, and an OR less than 1 suggests the outcome becomes less likely.\n",
    "\n",
    "Dive in, explore, and use this method to draw meaningful conclusions from your data.\n",
    "\n",
    "</div>\n",
    "</div>\n",
    "\n",
    "\n",
    "\n"
   ]
  },
  {
   "cell_type": "code",
   "execution_count": 21,
   "id": "42cd0a4c-24ab-4407-a440-3683ca08f6df",
   "metadata": {},
   "outputs": [
    {
     "data": {
      "text/plain": [
       "\n",
       "Call:\n",
       "glm(formula = outcome ~ predictor, family = binomial(link = \"logit\"), \n",
       "    data = merged_df)\n",
       "\n",
       "Deviance Residuals: \n",
       "    Min       1Q   Median       3Q      Max  \n",
       "-1.0367  -0.8595  -0.8595   1.3250   1.5330  \n",
       "\n",
       "Coefficients:\n",
       "                           Estimate Std. Error z value Pr(>|z|)    \n",
       "(Intercept)                -0.80563    0.06366 -12.655  < 2e-16 ***\n",
       "predictorChronic Sinusitis  0.46516    0.12657   3.675 0.000238 ***\n",
       "---\n",
       "Signif. codes:  0 '***' 0.001 '**' 0.01 '*' 0.05 '.' 0.1 ' ' 1\n",
       "\n",
       "(Dispersion parameter for binomial family taken to be 1)\n",
       "\n",
       "    Null deviance: 1909.5  on 1499  degrees of freedom\n",
       "Residual deviance: 1896.2  on 1498  degrees of freedom\n",
       "AIC: 1900.2\n",
       "\n",
       "Number of Fisher Scoring iterations: 4\n"
      ]
     },
     "metadata": {},
     "output_type": "display_data"
    }
   ],
   "source": [
    "# Here, we do a logistic regression without adjusting for covariates.\n",
    "unadj_reg <- glm(outcome ~ predictor, family = binomial(link = \"logit\"), data = merged_df)\n",
    "summary(unadj_reg)"
   ]
  },
  {
   "cell_type": "markdown",
   "id": "8e9306bf-e42d-4dba-abf4-9dadb3d9a4cd",
   "metadata": {},
   "source": [
    "<div class=\"alert alert-block alert-warning\">\n",
    "    <b>Interpreting the Updated Logistic Regression Output:</b>\n",
    "    <ul>\n",
    "        <li><b>Model:</b> The outcome is being predicted by the variable <code>predictor</code> in a binary logistic regression using the dataset <code>merged_df</code>.</li>\n",
    "        <li><b>Deviance Residuals:</b> These provide a measure of model fit. A perfect model would have residuals close to 0. The values now range from -1.0367 to 1.5330, indicating the deviations of the observed outcomes from those predicted by the model.</li>\n",
    "        <li><b>Coefficients:</b>\n",
    "            <ul>\n",
    "                <li><code>(Intercept)</code>: -0.80563 represents the log odds of the outcome when <code>predictor</code> is 0. This remains typically not directly interpretable unless the data is centered or if a predictor value of 0 has a meaningful interpretation in the study's context.</li>\n",
    "                <li><code>predictorChronic Sinusitis</code>: An increase of 0.46516 in the log odds of the outcome for a unit change in the predictor. Given the significance code <code>***</code>, it's highly significant with a p-value of 0.000238.</li>\n",
    "            </ul>\n",
    "        </li>\n",
    "        <li><b>z value:</b> The z-value is 3.675; this is the standardized estimate divided by its standard error. \n",
    "        <li><b>Null deviance:</b> Indicates goodness of fit of a model with no predictors, with lower values indicating better fit. Now it's 1909.5 on 1499 degrees of freedom.</li>\n",
    "        <li><b>Residual deviance:</b> Indicates goodness of fit of the model, with lower values suggesting better fit. Now it's 1896.2 on 1498 degrees of freedom.</li>\n",
    "        <li><b>AIC (Akaike Information Criterion):</b> 1900.2 - Used to compare models. Lower AIC values suggest better fitting models, but it's mostly used for model comparison purposes.</li>\n",
    "    </ul>\n",
    "    <b>Overall:</b> The variable <code>predictorChronic Sinusitis</code> remains statistically significant in predicting the <code>outcome</code>. The model fits the data reasonably well, as suggested by the deviances and AIC.\n",
    "</div>\n"
   ]
  },
  {
   "cell_type": "markdown",
   "id": "3724a2d7-db36-42ae-b313-eadebccf1f0a",
   "metadata": {},
   "source": [
    "<div style=\"text-align: center; margin-bottom: 15px; background-color: #E6FFE6; padding: 6px; border-radius: 6px;\">\n",
    "\n",
    "<a id='subsection_12_3_2'></a>\n",
    "\n",
    "<h4 style=\"color: #2E86C1; font-weight: bold;\">12.3.2 Unadjusted Odds Ratio and Confidence Interval</h4>\n",
    "\n",
    "</div>\n",
    "\n",
    "<div style=\"border: 2px solid #2E86C1; padding: 20px; border-radius: 10px; margin: 20px 0; box-shadow: 0 4px 8px rgba(0,0,0,0.1);\">\n",
    "\n",
    "<div style=\"font-size: 17px; text-align: center; width: 80%; margin: 20px auto; line-height: 1.6; color: #333;\">\n",
    "\n",
    "**Interpreting the Unadjusted Logistic Regression Results:**\n",
    "\n",
    "**Chronic Sinusitis:** Those with the `predictor` Chronic Sinusitis have 1.59 [1.24-2.04] times higher odds of having the `outcome` Atopic Dermatitis compared to those without Chronic Sinusitis.\n",
    "\n",
    "<div style=\"font-size: 16px; text-align: center; width: 90%; margin: 20px auto; color: #555;\">\n",
    "<b>Note:</b> Confidence intervals that span over 1 suggest the result isn't statistically significant at the standard 0.05 level.\n",
    "</div>\n",
    "</div>\n",
    "</div>"
   ]
  },
  {
   "cell_type": "code",
   "execution_count": 22,
   "id": "94cc6b63-6797-4dea-9b21-50f06b1cc115",
   "metadata": {},
   "outputs": [
    {
     "data": {
      "text/html": [
       "<table>\n",
       "<thead><tr><th scope=col>Predictor</th><th scope=col>Odds_Ratio</th><th scope=col>CI_Lower</th><th scope=col>CI_Upper</th></tr></thead>\n",
       "<tbody>\n",
       "\t<tr><td>(Intercept)               </td><td>0.4468085                 </td><td>0.3943968                 </td><td>0.5061853                 </td></tr>\n",
       "\t<tr><td>predictorChronic Sinusitis</td><td>1.5922767                 </td><td>1.2424505                 </td><td>2.0406004                 </td></tr>\n",
       "</tbody>\n",
       "</table>\n"
      ],
      "text/latex": [
       "\\begin{tabular}{r|llll}\n",
       " Predictor & Odds\\_Ratio & CI\\_Lower & CI\\_Upper\\\\\n",
       "\\hline\n",
       "\t (Intercept)                & 0.4468085                  & 0.3943968                  & 0.5061853                 \\\\\n",
       "\t predictorChronic Sinusitis & 1.5922767                  & 1.2424505                  & 2.0406004                 \\\\\n",
       "\\end{tabular}\n"
      ],
      "text/markdown": [
       "\n",
       "| Predictor | Odds_Ratio | CI_Lower | CI_Upper |\n",
       "|---|---|---|---|\n",
       "| (Intercept)                | 0.4468085                  | 0.3943968                  | 0.5061853                  |\n",
       "| predictorChronic Sinusitis | 1.5922767                  | 1.2424505                  | 2.0406004                  |\n",
       "\n"
      ],
      "text/plain": [
       "  Predictor                  Odds_Ratio CI_Lower  CI_Upper \n",
       "1 (Intercept)                0.4468085  0.3943968 0.5061853\n",
       "2 predictorChronic Sinusitis 1.5922767  1.2424505 2.0406004"
      ]
     },
     "metadata": {},
     "output_type": "display_data"
    }
   ],
   "source": [
    "unadj_or <- exp(coef(unadj_reg))\n",
    "unadj_ci <- exp(confint.default(unadj_reg))\n",
    "\n",
    "tibble(\n",
    "  Predictor = names(unadj_or),\n",
    "  Odds_Ratio = unadj_or,\n",
    "  CI_Lower = unadj_ci[, 1],\n",
    "  CI_Upper = unadj_ci[, 2]\n",
    ")"
   ]
  },
  {
   "cell_type": "markdown",
   "id": "63116187-9d61-4e41-9731-61ebd1630521",
   "metadata": {},
   "source": [
    "<div style=\"text-align: center; margin-bottom: 15px; background-color: #E6FFE6; padding: 6px; border-radius: 6px;\">\n",
    "\n",
    "<a id='subsection_12_3_3'></a>\n",
    "\n",
    "<h4 style=\"color: #2E86C1; font-weight: bold;\">12.3.3 Adjusted Logistic Regression</h4>\n",
    "\n",
    "</div>\n",
    "\n",
    "<div style=\"border: 2px solid #2E86C1; padding: 20px; border-radius: 10px; margin: 20px 0; box-shadow: 0 4px 8px rgba(0,0,0,0.1);\">\n",
    "<div style=\"font-size: 17px; text-align: center; width: 80%; margin: 20px auto; line-height: 1.6; color: #333;\">\n",
    "\n",
    "Building on the previous unadjusted analysis, the **Adjusted Logistic Regression** now incorporates multiple predictors, allowing us to control for potential confounders. This updated approach includes additional variables like **sex, age_group, race, and ethnicity**.\n",
    "\n",
    "**Key Points:**\n",
    "\n",
    "- **Multiple Predictor Variables:** By integrating several predictors, both categorical and continuous, this adjusted analysis enables more in-depth insights, like the combined influence of age with other demographics.\n",
    "\n",
    "- **Odds Ratio (OR):** Essential in adjusted analysis, each OR represents the effect of a predictor while holding other variables constant. OR values inform whether a predictor increases, decreases, or has no effect on the likelihood of the outcome.\n",
    "\n",
    "</div>\n",
    "</div>\n"
   ]
  },
  {
   "cell_type": "code",
   "execution_count": 23,
   "id": "ad9bc7bb-00ff-4656-9cd0-050504029f22",
   "metadata": {},
   "outputs": [
    {
     "data": {
      "text/plain": [
       "\n",
       "Call:\n",
       "glm(formula = outcome ~ predictor + ethnicity + age_group + sex_at_birth + \n",
       "    race, family = binomial(link = \"logit\"), data = merged_df)\n",
       "\n",
       "Deviance Residuals: \n",
       "    Min       1Q   Median       3Q      Max  \n",
       "-1.2347  -0.8914  -0.8152   1.3541   1.7093  \n",
       "\n",
       "Coefficients:\n",
       "                                Estimate Std. Error z value Pr(>|z|)    \n",
       "(Intercept)                     -0.60390    0.17528  -3.445 0.000570 ***\n",
       "predictorChronic Sinusitis       0.47604    0.12750   3.734 0.000189 ***\n",
       "ethnicityNot Hispanic or Latino -0.12847    0.11079  -1.160 0.246226    \n",
       "age_group30-39                  -0.46440    0.19611  -2.368 0.017879 *  \n",
       "age_group40-49                  -0.27961    0.18469  -1.514 0.130052    \n",
       "age_group50-59                  -0.41190    0.19074  -2.159 0.030813 *  \n",
       "age_group60-69                  -0.41150    0.18645  -2.207 0.027312 *  \n",
       "age_group70-79                  -0.24401    0.19061  -1.280 0.200503    \n",
       "sex_at_birthMale                 0.01363    0.11075   0.123 0.902070    \n",
       "raceAsian                        0.24802    0.13729   1.807 0.070831 .  \n",
       "raceBlack or African American    0.21282    0.13487   1.578 0.114586    \n",
       "---\n",
       "Signif. codes:  0 '***' 0.001 '**' 0.01 '*' 0.05 '.' 0.1 ' ' 1\n",
       "\n",
       "(Dispersion parameter for binomial family taken to be 1)\n",
       "\n",
       "    Null deviance: 1909.5  on 1499  degrees of freedom\n",
       "Residual deviance: 1883.3  on 1489  degrees of freedom\n",
       "AIC: 1905.3\n",
       "\n",
       "Number of Fisher Scoring iterations: 4\n"
      ]
     },
     "metadata": {},
     "output_type": "display_data"
    }
   ],
   "source": [
    "# Here, we do a logistic regression adjusting for race, ethnicity, age, and sex at birth.\n",
    "adj_reg <- glm(outcome ~ predictor + ethnicity + age_group + sex_at_birth + race, \n",
    "                 family = binomial(link = \"logit\"), data = merged_df)\n",
    "summary(adj_reg)"
   ]
  },
  {
   "cell_type": "markdown",
   "id": "8611c509-be2f-4888-a12c-748be0411c6e",
   "metadata": {},
   "source": [
    "<div class=\"alert alert-block alert-warning\">\n",
    "    <b>Interpreting the Updated Logistic Regression Output:</b>\n",
    "    <ul>\n",
    "        <li><b>Model:</b> The outcome is predicted by the <code>predictor</code>, along with other variables including <code>ethnicity</code>, <code>age_group</code>, <code>sex_at_birth</code>, and <code>race</code> in a binary logistic regression using the dataset <code>merged_df</code>.</li>\n",
    "        <li><b>Deviance Residuals:</b> The deviance residuals range from -1.2347 to 1.7093, indicating deviations from the model fit.</li>\n",
    "        <li><b>Coefficients:</b>\n",
    "            <ul>\n",
    "                <li><code>predictorChronic Sinusitis</code>: Highly significant with a p-value of 0.000189.</li>\n",
    "                <li><code>ethnicityNot Hispanic or Latino</code>: Not significant with a p-value of 0.246226.</li>\n",
    "                <li><code>age_group</code>: Some age groups are significant predictors:\n",
    "                    <ul>\n",
    "                        <li><code>age_group30-39</code>: Significant with a p-value of 0.017879.</li>\n",
    "                        <li><code>age_group40-49</code>: Not significant with a p-value of 0.130052.</li>\n",
    "                        <li><code>age_group50-59</code>: Significant with a p-value of 0.030813.</li>\n",
    "                        <li><code>age_group60-69</code>: Significant with a p-value of 0.027312.</li>\n",
    "                        <li><code>age_group70-79</code>: Not significant with a p-value of 0.200503.</li>\n",
    "                    </ul>\n",
    "                </li>\n",
    "                <li><code>sex_at_birthMale</code>: Not significant with a p-value of 0.902070.</li>\n",
    "                <li><code>raceAsian</code>: Marginally significant with a p-value of 0.070831.</li>\n",
    "                <li><code>raceBlack or African American</code>: Not significant with a p-value of 0.114586.</li>\n",
    "            </ul>\n",
    "        </li>\n",
    "        <li><b>Model Fit:</b> The residual deviance (1883.3 on 1489 df) and AIC (1905.3) suggest the model fits the data. When compared to the null model (Null deviance = 1909.5), this model provides a slightly better fit.</li>\n",
    "    </ul>\n",
    "    <b>Key Takeaway:</b> After adjusting for <code>ethnicity</code>, <code>age_group</code>, <code>sex_at_birth</code>, and <code>race</code>, the variable <code>predictorChronic Sinusitis</code> remains statistically significant in predicting the <code>outcome</code>. Additionally, certain age groups (30-39, 50-59, 60-69) are significant predictors in this model based on the provided p-values. \n",
    "</div>\n"
   ]
  },
  {
   "cell_type": "markdown",
   "id": "0ed0ecee-864b-4939-a75b-1919e32bc611",
   "metadata": {
    "tags": []
   },
   "source": [
    "<div style=\"text-align: center; margin-bottom: 15px; background-color: #E6FFE6; padding: 6px; border-radius: 6px;\">\n",
    "\n",
    "<a id='subsection_12_3_4'></a>\n",
    "\n",
    "<h4 style=\"color: #2E86C1; font-weight: bold;\">12.3.4 Adjusted Odds Ratio and Confidence Interval</h4>\n",
    "\n",
    "</div>\n",
    "\n",
    "<div style=\"border: 2px solid #2E86C1; padding: 20px; border-radius: 10px; margin: 20px 0; box-shadow: 0 4px 8px rgba(0,0,0,0.1);\">\n",
    "\n",
    "<div style=\"font-size: 17px; text-align: center; width: 80%; margin: 20px auto; line-height: 1.6; color: #333;\">\n",
    "\n",
    "**Interpreting the Adjusted Logistic Regression Results:**\n",
    "\n",
    "- **Chronic Sinusitis:** Those with the `predictor` Chronic Sinusitis have 1.61 [1.25-2.07] times higher odds of having the `outcome` Atopic Dermatitis compared to those without Chronic Sinusitis. \n",
    "\n",
    "- **Ethnicity:** Compared to `Hispanic or Latino` individuals, those who are `Not Hispanic or Latino` exhibit 0.88 times lower odds of having the `outcome` Atopic Dermatitis. However, the confidence interval [0.71-1.09] indicates this is not statistically significant.\n",
    "\n",
    "- **Age Group:** When compared to the reference age group `18-29`:\n",
    "\n",
    "    - **Age Group 30-39:** This age group has 0.63 times lower odds of having atopic dermatitis; this is significant as indicated by the confidence interval [0.43-0.92].\n",
    "\n",
    "    - **Age Group 40-49:** This age group has 0.76 times lower odds of having atopic dermatitis; this is not significant with a confidence interval of [0.53-1.09].\n",
    "\n",
    "    - **Age Group 50-59:** This age group has 0.66 times lower odds of having atopic dermatitis; this is significant, as denoted by the confidence interval [0.46-0.96].\n",
    "\n",
    "    - **Age Group 60-69:** Individuals in this age group have 0.66 times lower odds of having atopic dermatitis; this is significant, as highlighted by the confidence interval [0.46-0.95].\n",
    "\n",
    "    - **Age Group 70-79:** This age group has 0.78 times lower odds of having atopic dermatitis, but the relationship is not statistically significant, as indicated by the confidence interval [0.54-1.14].\n",
    "\n",
    "- **Sex at Birth:** The `Male` group presents higher odds of 1.01 for the outcome compared to the `Female` group. However, this relationship isn't statistically significant, as highlighted by the confidence interval [0.82-1.26].\n",
    "\n",
    "- **Race:** When compared to the reference group `White`:\n",
    "    \n",
    "    - **Asians:** The `Asian` group has 1.28 times higher odds for Atopic Dermatitis, but this isn't statistically significant with a confidence interval of [0.97-1.68].\n",
    "    \n",
    "    - **Black or African Americans:** The `Black or African American` group has 1.24 times higher odds, but the relationship is also not significant, indicated by the confidence interval [0.95-1.61].\n",
    "\n",
    "<div style=\"font-size: 16px; text-align: center; width: 90%; margin: 20px auto; color: #555;\">\n",
    "<b>Notes:</b> <br>\n",
    "    <strong>1.</strong> Confidence intervals traversing the value of 1 imply non-significance at the conventional 0.05 level. <br>\n",
    "    <strong>2.</strong> In these adjusted models, all other variables are held constant, implying the interpretation for each factor is isolated from the influence of others.\n",
    "</div>\n",
    "\n",
    "</div>\n",
    "</div>\n"
   ]
  },
  {
   "cell_type": "code",
   "execution_count": 24,
   "id": "341f05b1-2afe-45b7-b5b5-3c8463160905",
   "metadata": {},
   "outputs": [
    {
     "data": {
      "text/html": [
       "<table>\n",
       "<thead><tr><th scope=col>Predictor</th><th scope=col>Odds_Ratio</th><th scope=col>CI_Lower</th><th scope=col>CI_Upper</th></tr></thead>\n",
       "<tbody>\n",
       "\t<tr><td>(Intercept)                    </td><td>0.5466765                      </td><td>0.3877328                      </td><td>0.7707764                      </td></tr>\n",
       "\t<tr><td>predictorChronic Sinusitis     </td><td>1.6096894                      </td><td>1.2537503                      </td><td>2.0666795                      </td></tr>\n",
       "\t<tr><td>ethnicityNot Hispanic or Latino</td><td>0.8794370                      </td><td>0.7077769                      </td><td>1.0927305                      </td></tr>\n",
       "\t<tr><td>age_group30-39                 </td><td>0.6285124                      </td><td>0.4279455                      </td><td>0.9230798                      </td></tr>\n",
       "\t<tr><td>age_group40-49                 </td><td>0.7560810                      </td><td>0.5264497                      </td><td>1.0858748                      </td></tr>\n",
       "\t<tr><td>age_group50-59                 </td><td>0.6623937                      </td><td>0.4557850                      </td><td>0.9626588                      </td></tr>\n",
       "\t<tr><td>age_group60-69                 </td><td>0.6626529                      </td><td>0.4598103                      </td><td>0.9549782                      </td></tr>\n",
       "\t<tr><td>age_group70-79                 </td><td>0.7834825                      </td><td>0.5392372                      </td><td>1.1383577                      </td></tr>\n",
       "\t<tr><td>sex_at_birthMale               </td><td>1.0137201                      </td><td>0.8159272                      </td><td>1.2594609                      </td></tr>\n",
       "\t<tr><td>raceAsian                      </td><td>1.2814832                      </td><td>0.9791597                      </td><td>1.6771515                      </td></tr>\n",
       "\t<tr><td>raceBlack or African American  </td><td>1.2371618                      </td><td>0.9497758                      </td><td>1.6115059                      </td></tr>\n",
       "</tbody>\n",
       "</table>\n"
      ],
      "text/latex": [
       "\\begin{tabular}{r|llll}\n",
       " Predictor & Odds\\_Ratio & CI\\_Lower & CI\\_Upper\\\\\n",
       "\\hline\n",
       "\t (Intercept)                     & 0.5466765                       & 0.3877328                       & 0.7707764                      \\\\\n",
       "\t predictorChronic Sinusitis      & 1.6096894                       & 1.2537503                       & 2.0666795                      \\\\\n",
       "\t ethnicityNot Hispanic or Latino & 0.8794370                       & 0.7077769                       & 1.0927305                      \\\\\n",
       "\t age\\_group30-39                  & 0.6285124                         & 0.4279455                         & 0.9230798                        \\\\\n",
       "\t age\\_group40-49                  & 0.7560810                         & 0.5264497                         & 1.0858748                        \\\\\n",
       "\t age\\_group50-59                  & 0.6623937                         & 0.4557850                         & 0.9626588                        \\\\\n",
       "\t age\\_group60-69                  & 0.6626529                         & 0.4598103                         & 0.9549782                        \\\\\n",
       "\t age\\_group70-79                  & 0.7834825                         & 0.5392372                         & 1.1383577                        \\\\\n",
       "\t sex\\_at\\_birthMale                & 1.0137201                           & 0.8159272                           & 1.2594609                          \\\\\n",
       "\t raceAsian                       & 1.2814832                       & 0.9791597                       & 1.6771515                      \\\\\n",
       "\t raceBlack or African American   & 1.2371618                       & 0.9497758                       & 1.6115059                      \\\\\n",
       "\\end{tabular}\n"
      ],
      "text/markdown": [
       "\n",
       "| Predictor | Odds_Ratio | CI_Lower | CI_Upper |\n",
       "|---|---|---|---|\n",
       "| (Intercept)                     | 0.5466765                       | 0.3877328                       | 0.7707764                       |\n",
       "| predictorChronic Sinusitis      | 1.6096894                       | 1.2537503                       | 2.0666795                       |\n",
       "| ethnicityNot Hispanic or Latino | 0.8794370                       | 0.7077769                       | 1.0927305                       |\n",
       "| age_group30-39                  | 0.6285124                       | 0.4279455                       | 0.9230798                       |\n",
       "| age_group40-49                  | 0.7560810                       | 0.5264497                       | 1.0858748                       |\n",
       "| age_group50-59                  | 0.6623937                       | 0.4557850                       | 0.9626588                       |\n",
       "| age_group60-69                  | 0.6626529                       | 0.4598103                       | 0.9549782                       |\n",
       "| age_group70-79                  | 0.7834825                       | 0.5392372                       | 1.1383577                       |\n",
       "| sex_at_birthMale                | 1.0137201                       | 0.8159272                       | 1.2594609                       |\n",
       "| raceAsian                       | 1.2814832                       | 0.9791597                       | 1.6771515                       |\n",
       "| raceBlack or African American   | 1.2371618                       | 0.9497758                       | 1.6115059                       |\n",
       "\n"
      ],
      "text/plain": [
       "   Predictor                       Odds_Ratio CI_Lower  CI_Upper \n",
       "1  (Intercept)                     0.5466765  0.3877328 0.7707764\n",
       "2  predictorChronic Sinusitis      1.6096894  1.2537503 2.0666795\n",
       "3  ethnicityNot Hispanic or Latino 0.8794370  0.7077769 1.0927305\n",
       "4  age_group30-39                  0.6285124  0.4279455 0.9230798\n",
       "5  age_group40-49                  0.7560810  0.5264497 1.0858748\n",
       "6  age_group50-59                  0.6623937  0.4557850 0.9626588\n",
       "7  age_group60-69                  0.6626529  0.4598103 0.9549782\n",
       "8  age_group70-79                  0.7834825  0.5392372 1.1383577\n",
       "9  sex_at_birthMale                1.0137201  0.8159272 1.2594609\n",
       "10 raceAsian                       1.2814832  0.9791597 1.6771515\n",
       "11 raceBlack or African American   1.2371618  0.9497758 1.6115059"
      ]
     },
     "metadata": {},
     "output_type": "display_data"
    }
   ],
   "source": [
    "adj_or <- exp(coef(adj_reg))\n",
    "adj_ci <- exp(confint.default(adj_reg))\n",
    "\n",
    "tibble(\n",
    "  Predictor = names(adj_or),\n",
    "  Odds_Ratio = adj_or,\n",
    "  CI_Lower = adj_ci[, 1],\n",
    "  CI_Upper = adj_ci[, 2]\n",
    ")"
   ]
  },
  {
   "cell_type": "markdown",
   "id": "263f5e69-0de3-4428-be89-078108f4f0ee",
   "metadata": {
    "tags": []
   },
   "source": [
    "<div style=\"text-align: center; margin-bottom: 15px; background-color: #E6FFE6; padding: 6px; border-radius: 6px;\">\n",
    "<a id='subsection_12_3_5'></a>\n",
    "<h4 style=\"color: #2E86C1; font-weight: bold;\">12.3.5 Summary of Logistic Regressions</h4>\n",
    "</div>\n",
    "\n",
    "<div style=\"border: 2px solid #2E86C1; padding: 20px; border-radius: 10px; margin: 20px 0; box-shadow: 0 4px 8px rgba(0,0,0,0.1);\">\n",
    "<div style=\"font-size: 17px; text-align: center; width: 80%; margin: 20px auto; line-height: 1.6; color: #333;\">\n",
    "\n",
    "This is the final table for the logistic regressions. It shows the unadjusted and adjusted odds ratio for the `predictor` in your analysis.\n",
    "\n",
    "</div>\n",
    "</div>"
   ]
  },
  {
   "cell_type": "code",
   "execution_count": 25,
   "id": "27d8c6b3-0f67-482f-b4b9-9929a64c83c2",
   "metadata": {
    "tags": []
   },
   "outputs": [
    {
     "data": {
      "text/html": [
       "<table>\n",
       "<thead><tr><th scope=col>Predictor</th><th scope=col>Univariate OR (95% CI)</th><th scope=col>Multivariate OR (95% CI)</th></tr></thead>\n",
       "<tbody>\n",
       "\t<tr><td>Chronic Sinusitis </td><td>1.59 (1.24 - 2.04)</td><td>1.61 (1.25 - 2.07)</td></tr>\n",
       "</tbody>\n",
       "</table>\n"
      ],
      "text/latex": [
       "\\begin{tabular}{r|lll}\n",
       " Predictor & Univariate OR (95\\% CI) & Multivariate OR (95\\% CI)\\\\\n",
       "\\hline\n",
       "\t Chronic Sinusitis  & 1.59 (1.24 - 2.04) & 1.61 (1.25 - 2.07)\\\\\n",
       "\\end{tabular}\n"
      ],
      "text/markdown": [
       "\n",
       "| Predictor | Univariate OR (95% CI) | Multivariate OR (95% CI) |\n",
       "|---|---|---|\n",
       "| Chronic Sinusitis  | 1.59 (1.24 - 2.04) | 1.61 (1.25 - 2.07) |\n",
       "\n"
      ],
      "text/plain": [
       "  Predictor         Univariate OR (95% CI) Multivariate OR (95% CI)\n",
       "1 Chronic Sinusitis 1.59 (1.24 - 2.04)     1.61 (1.25 - 2.07)      "
      ]
     },
     "metadata": {},
     "output_type": "display_data"
    }
   ],
   "source": [
    "tibble(\n",
    "  'Predictor' = condition_2_name,\n",
    "  'Univariate OR (95% CI)' = sprintf(\"%.2f (%.2f - %.2f)\", unadj_or[2], unadj_ci[2, 1], unadj_ci[2, 2]),\n",
    "  'Multivariate OR (95% CI)' = sprintf(\"%.2f (%.2f - %.2f)\", adj_or[2], adj_ci[2, 1], adj_ci[2, 2]),\n",
    ")"
   ]
  }
 ],
 "metadata": {
  "kernelspec": {
   "display_name": "R",
   "language": "R",
   "name": "ir"
  },
  "language_info": {
   "codemirror_mode": "r",
   "file_extension": ".r",
   "mimetype": "text/x-r-source",
   "name": "R",
   "pygments_lexer": "r",
   "version": "3.6.1"
  },
  "toc-autonumbering": false,
  "toc-showcode": false,
  "toc-showmarkdowntxt": false,
  "toc-showtags": false
 },
 "nbformat": 4,
 "nbformat_minor": 5
}
