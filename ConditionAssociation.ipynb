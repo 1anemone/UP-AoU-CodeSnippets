{
 "cells": [
  {
   "cell_type": "markdown",
   "id": "ab2110fd-8e4f-4f2d-b996-c57002d89e2c",
   "metadata": {},
   "source": [
    "# Condition Association Code Template"
   ]
  },
  {
   "cell_type": "markdown",
   "id": "29e776aa-491a-4721-ab5d-4672f3979dae",
   "metadata": {},
   "source": [
    "# Import Libraries"
   ]
  },
  {
   "cell_type": "markdown",
   "id": "7b20458e-336c-4900-83db-f23f999fed8b",
   "metadata": {},
   "source": [
    "- The following libraries are needed for analysis. \n",
    "- When using the DatasetBuilder in All of Us, the libraries `tidyverse` and `bigrquery` will **automatically be imported** with the datasets.\n",
    "- The libraries `table1` and `IRdisplay` will have to be **imported separately**."
   ]
  },
  {
   "cell_type": "code",
   "execution_count": 1,
   "id": "e2e85807-ac4d-4025-af69-e167057c3d0e",
   "metadata": {
    "tags": []
   },
   "outputs": [
    {
     "name": "stderr",
     "output_type": "stream",
     "text": [
      "Registered S3 methods overwritten by 'ggplot2':\n",
      "  method         from \n",
      "  [.quosures     rlang\n",
      "  c.quosures     rlang\n",
      "  print.quosures rlang\n",
      "Registered S3 method overwritten by 'rvest':\n",
      "  method            from\n",
      "  read_xml.response xml2\n",
      "-- Attaching packages --------------------------------------- tidyverse 1.2.1 --\n",
      "v ggplot2 3.1.1       v purrr   0.3.2  \n",
      "v tibble  2.1.1       v dplyr   0.8.0.1\n",
      "v tidyr   0.8.3       v stringr 1.4.0  \n",
      "v readr   1.3.1       v forcats 0.4.0  \n",
      "-- Conflicts ------------------------------------------ tidyverse_conflicts() --\n",
      "x dplyr::filter() masks stats::filter()\n",
      "x dplyr::lag()    masks stats::lag()\n",
      "\n",
      "Attaching package: 'table1'\n",
      "\n",
      "The following objects are masked from 'package:base':\n",
      "\n",
      "    units, units<-\n",
      "\n"
     ]
    }
   ],
   "source": [
    "library(tidyverse)\n",
    "library(table1)\n",
    "library(IRdisplay)"
   ]
  },
  {
   "cell_type": "markdown",
   "id": "17fbfdd2-3f92-467d-b414-62e62310736c",
   "metadata": {},
   "source": [
    "# Import Data"
   ]
  },
  {
   "cell_type": "markdown",
   "id": "986e56a0-5d43-489a-99ed-0ed54b434b49",
   "metadata": {},
   "source": [
    "- This data is meant to **mimic** the All of Us datasets.\n",
    "- The real datasets will be **imported with SQL code** (2 coding cells per dataset)."
   ]
  },
  {
   "cell_type": "code",
   "execution_count": 2,
   "id": "e064960e-bd5a-4f20-b1c8-30ad48f256f6",
   "metadata": {},
   "outputs": [],
   "source": [
    "set.seed(123)  # Setting seed for reproducibility\n",
    "\n",
    "# Generating random data for case and control dfs\n",
    "generate_random_data <- function(n) {\n",
    "  data.frame(\n",
    "    person_id = 1:n,\n",
    "    sex_at_birth = sample(c(\"Male\", \"Female\"), n, replace = TRUE),\n",
    "    date_of_birth = format(as.POSIXct(runif(n, \n",
    "                                            as.numeric(as.POSIXct(\"1945-01-01 UTC\")), \n",
    "                                            as.numeric(as.POSIXct(\"2002-12-31 UTC\"))), \n",
    "                           origin=\"1970-01-01\"), \"%Y-%m-%d %H:%M:%S UTC\"),\n",
    "    race = sample(c(\"Black or African American\", \"White\", \"Asian\"), n, replace = TRUE),\n",
    "    ethnicity = sample(c(\"Hispanic or Latino\", \"Not Hispanic or Latino\"), n, replace = TRUE),\n",
    "    stringsAsFactors = FALSE\n",
    "  )\n",
    "}\n",
    "\n",
    "dataset_12345678_person_df <- generate_random_data(300)\n",
    "dataset_23456789_person_df <- generate_random_data(1000)\n",
    "\n",
    "# Generate random df for condition\n",
    "\n",
    "# Combined person IDs from df1 and df2\n",
    "all_person_ids <- c(dataset_12345678_person_df$person_id, dataset_23456789_person_df$person_id)\n",
    "\n",
    "# Randomly sample from the combined person IDs for a specified number of occurrences\n",
    "# For this example, let's say we want 500 occurrences (you can adjust this number)\n",
    "disease_occurrences <- sample(all_person_ids, 500, replace = TRUE)\n",
    "\n",
    "# Create the dataframe\n",
    "dataset_34567890_condition_df <- data.frame(person_id = disease_occurrences)"
   ]
  },
  {
   "cell_type": "markdown",
   "id": "c089960b-7886-46be-864c-88872a8ddd6a",
   "metadata": {},
   "source": [
    "# Rename Dataframes"
   ]
  },
  {
   "cell_type": "markdown",
   "id": "af1ef25c-b929-45c1-a26c-31f78770036f",
   "metadata": {},
   "source": [
    "- **Rename the All of Us dataframes here.**\n",
    "- In the database, the dataframe names look like `dataset_12345678_domain_df`"
   ]
  },
  {
   "cell_type": "code",
   "execution_count": 3,
   "id": "545005f7-d739-4b5d-83e0-a7e376be63b6",
   "metadata": {},
   "outputs": [],
   "source": [
    "case_df <- dataset_12345678_person_df\n",
    "\n",
    "control_df <- dataset_23456789_person_df\n",
    "\n",
    "condition <- dataset_34567890_condition_df"
   ]
  },
  {
   "cell_type": "markdown",
   "id": "b3d0a3b3-ff91-4878-8932-f494dd5b15e6",
   "metadata": {},
   "source": [
    "- **Examine the data and its dimensions.**"
   ]
  },
  {
   "cell_type": "code",
   "execution_count": 4,
   "id": "c51ae4a1-600d-466d-8494-ef0ad8f74628",
   "metadata": {},
   "outputs": [
    {
     "data": {
      "text/html": [
       "<table>\n",
       "<thead><tr><th scope=col>person_id</th><th scope=col>sex_at_birth</th><th scope=col>date_of_birth</th><th scope=col>race</th><th scope=col>ethnicity</th></tr></thead>\n",
       "<tbody>\n",
       "\t<tr><td>1                        </td><td>Male                     </td><td>1990-07-03 16:34:24 UTC  </td><td>White                    </td><td>Hispanic or Latino       </td></tr>\n",
       "\t<tr><td>2                        </td><td>Male                     </td><td>1945-07-19 18:05:52 UTC  </td><td>Black or African American</td><td>Not Hispanic or Latino   </td></tr>\n",
       "\t<tr><td>3                        </td><td>Male                     </td><td>1990-03-08 22:38:28 UTC  </td><td>Asian                    </td><td>Not Hispanic or Latino   </td></tr>\n",
       "\t<tr><td>4                        </td><td>Female                   </td><td>1987-04-21 17:06:06 UTC  </td><td>Asian                    </td><td>Hispanic or Latino       </td></tr>\n",
       "\t<tr><td>5                        </td><td>Male                     </td><td>1981-07-19 02:37:22 UTC  </td><td>Asian                    </td><td>Hispanic or Latino       </td></tr>\n",
       "\t<tr><td>6                        </td><td>Female                   </td><td>1972-11-22 02:41:58 UTC  </td><td>White                    </td><td>Not Hispanic or Latino   </td></tr>\n",
       "</tbody>\n",
       "</table>\n"
      ],
      "text/latex": [
       "\\begin{tabular}{r|lllll}\n",
       " person\\_id & sex\\_at\\_birth & date\\_of\\_birth & race & ethnicity\\\\\n",
       "\\hline\n",
       "\t 1                         & Male                      & 1990-07-03 16:34:24 UTC   & White                     & Hispanic or Latino       \\\\\n",
       "\t 2                         & Male                      & 1945-07-19 18:05:52 UTC   & Black or African American & Not Hispanic or Latino   \\\\\n",
       "\t 3                         & Male                      & 1990-03-08 22:38:28 UTC   & Asian                     & Not Hispanic or Latino   \\\\\n",
       "\t 4                         & Female                    & 1987-04-21 17:06:06 UTC   & Asian                     & Hispanic or Latino       \\\\\n",
       "\t 5                         & Male                      & 1981-07-19 02:37:22 UTC   & Asian                     & Hispanic or Latino       \\\\\n",
       "\t 6                         & Female                    & 1972-11-22 02:41:58 UTC   & White                     & Not Hispanic or Latino   \\\\\n",
       "\\end{tabular}\n"
      ],
      "text/markdown": [
       "\n",
       "| person_id | sex_at_birth | date_of_birth | race | ethnicity |\n",
       "|---|---|---|---|---|\n",
       "| 1                         | Male                      | 1990-07-03 16:34:24 UTC   | White                     | Hispanic or Latino        |\n",
       "| 2                         | Male                      | 1945-07-19 18:05:52 UTC   | Black or African American | Not Hispanic or Latino    |\n",
       "| 3                         | Male                      | 1990-03-08 22:38:28 UTC   | Asian                     | Not Hispanic or Latino    |\n",
       "| 4                         | Female                    | 1987-04-21 17:06:06 UTC   | Asian                     | Hispanic or Latino        |\n",
       "| 5                         | Male                      | 1981-07-19 02:37:22 UTC   | Asian                     | Hispanic or Latino        |\n",
       "| 6                         | Female                    | 1972-11-22 02:41:58 UTC   | White                     | Not Hispanic or Latino    |\n",
       "\n"
      ],
      "text/plain": [
       "  person_id sex_at_birth date_of_birth           race                     \n",
       "1 1         Male         1990-07-03 16:34:24 UTC White                    \n",
       "2 2         Male         1945-07-19 18:05:52 UTC Black or African American\n",
       "3 3         Male         1990-03-08 22:38:28 UTC Asian                    \n",
       "4 4         Female       1987-04-21 17:06:06 UTC Asian                    \n",
       "5 5         Male         1981-07-19 02:37:22 UTC Asian                    \n",
       "6 6         Female       1972-11-22 02:41:58 UTC White                    \n",
       "  ethnicity             \n",
       "1 Hispanic or Latino    \n",
       "2 Not Hispanic or Latino\n",
       "3 Not Hispanic or Latino\n",
       "4 Hispanic or Latino    \n",
       "5 Hispanic or Latino    \n",
       "6 Not Hispanic or Latino"
      ]
     },
     "metadata": {},
     "output_type": "display_data"
    },
    {
     "data": {
      "text/html": [
       "<ol class=list-inline>\n",
       "\t<li>300</li>\n",
       "\t<li>5</li>\n",
       "</ol>\n"
      ],
      "text/latex": [
       "\\begin{enumerate*}\n",
       "\\item 300\n",
       "\\item 5\n",
       "\\end{enumerate*}\n"
      ],
      "text/markdown": [
       "1. 300\n",
       "2. 5\n",
       "\n",
       "\n"
      ],
      "text/plain": [
       "[1] 300   5"
      ]
     },
     "metadata": {},
     "output_type": "display_data"
    }
   ],
   "source": [
    "head(case_df)\n",
    "dim(case_df)"
   ]
  },
  {
   "cell_type": "markdown",
   "id": "2f1654a4-7272-4a88-b08c-290b9809ea7f",
   "metadata": {},
   "source": [
    "# Flag the Outcome"
   ]
  },
  {
   "cell_type": "markdown",
   "id": "aac492dd-9275-4425-b1b2-5fdc48934df9",
   "metadata": {},
   "source": [
    "- Since `case_df` and `control_df` were built on the inclusion/exclusion of a certain condition, we must **create a new column** to flag this condition.\n",
    "- We will call it the `outcome` column and assign `1` or `0` to those with or without the condition, respectively."
   ]
  },
  {
   "cell_type": "code",
   "execution_count": 5,
   "id": "4759d016-2391-41c6-bf71-b922a3a9ef9b",
   "metadata": {},
   "outputs": [],
   "source": [
    "# Assign all cases with the value 1 in a new column called 'outcome'.\n",
    "case_df$outcome <- 1\n",
    "\n",
    "# Assign all controls with the value 0 to same column.\n",
    "control_df$outcome <- 0"
   ]
  },
  {
   "cell_type": "markdown",
   "id": "801893d9-8fc5-4045-924a-f08864a5ba73",
   "metadata": {},
   "source": [
    "# Flag the Condition"
   ]
  },
  {
   "cell_type": "markdown",
   "id": "987a62e8-d2ce-4ae1-994b-285ade814289",
   "metadata": {},
   "source": [
    "- Since there are **many condition concept names and codes** that fall under certain diagnoses, it is easiest to flag them all with a consistent variable value (i.e. 1).\n",
    "- For the `condition` dataframe, there are likely **duplicates for multiple visits** for that condition.\n",
    "- We must only get the unique person ids and create a new variable called `condition_df`."
   ]
  },
  {
   "cell_type": "code",
   "execution_count": 6,
   "id": "505df7b0-d2ef-48e0-b035-561b28b9399f",
   "metadata": {},
   "outputs": [
    {
     "data": {
      "text/html": [
       "<ol class=list-inline>\n",
       "\t<li>500</li>\n",
       "\t<li>1</li>\n",
       "</ol>\n"
      ],
      "text/latex": [
       "\\begin{enumerate*}\n",
       "\\item 500\n",
       "\\item 1\n",
       "\\end{enumerate*}\n"
      ],
      "text/markdown": [
       "1. 500\n",
       "2. 1\n",
       "\n",
       "\n"
      ],
      "text/plain": [
       "[1] 500   1"
      ]
     },
     "metadata": {},
     "output_type": "display_data"
    },
    {
     "data": {
      "text/html": [
       "<ol class=list-inline>\n",
       "\t<li>380</li>\n",
       "\t<li>2</li>\n",
       "</ol>\n"
      ],
      "text/latex": [
       "\\begin{enumerate*}\n",
       "\\item 380\n",
       "\\item 2\n",
       "\\end{enumerate*}\n"
      ],
      "text/markdown": [
       "1. 380\n",
       "2. 2\n",
       "\n",
       "\n"
      ],
      "text/plain": [
       "[1] 380   2"
      ]
     },
     "metadata": {},
     "output_type": "display_data"
    },
    {
     "data": {
      "text/html": [
       "<table>\n",
       "<thead><tr><th scope=col>person_id</th><th scope=col>Condition_Flag</th></tr></thead>\n",
       "<tbody>\n",
       "\t<tr><td> 34</td><td>1  </td></tr>\n",
       "\t<tr><td>351</td><td>1  </td></tr>\n",
       "\t<tr><td>654</td><td>1  </td></tr>\n",
       "\t<tr><td>244</td><td>1  </td></tr>\n",
       "\t<tr><td>770</td><td>1  </td></tr>\n",
       "\t<tr><td>618</td><td>1  </td></tr>\n",
       "</tbody>\n",
       "</table>\n"
      ],
      "text/latex": [
       "\\begin{tabular}{r|ll}\n",
       " person\\_id & Condition\\_Flag\\\\\n",
       "\\hline\n",
       "\t  34 & 1  \\\\\n",
       "\t 351 & 1  \\\\\n",
       "\t 654 & 1  \\\\\n",
       "\t 244 & 1  \\\\\n",
       "\t 770 & 1  \\\\\n",
       "\t 618 & 1  \\\\\n",
       "\\end{tabular}\n"
      ],
      "text/markdown": [
       "\n",
       "| person_id | Condition_Flag |\n",
       "|---|---|\n",
       "|  34 | 1   |\n",
       "| 351 | 1   |\n",
       "| 654 | 1   |\n",
       "| 244 | 1   |\n",
       "| 770 | 1   |\n",
       "| 618 | 1   |\n",
       "\n"
      ],
      "text/plain": [
       "  person_id Condition_Flag\n",
       "1  34       1             \n",
       "2 351       1             \n",
       "3 654       1             \n",
       "4 244       1             \n",
       "5 770       1             \n",
       "6 618       1             "
      ]
     },
     "metadata": {},
     "output_type": "display_data"
    }
   ],
   "source": [
    "# Delete duplicates.\n",
    "condition_df <- unique(condition)\n",
    "\n",
    "# Assign 1 to all persons in a new column called 'Condition_Flag'.\n",
    "condition_df$Condition_Flag <- 1\n",
    "\n",
    "# Compare dimensions before and after trimming.\n",
    "dim(condition)\n",
    "dim(condition_df)\n",
    "head(condition_df)"
   ]
  },
  {
   "cell_type": "markdown",
   "id": "c3dc75ee-f05b-4d2d-87bd-caca033dcce6",
   "metadata": {},
   "source": [
    "# Join the Dataframes"
   ]
  },
  {
   "cell_type": "markdown",
   "id": "a790657e-bcb0-42e7-bc28-774f2c28ce5a",
   "metadata": {},
   "source": [
    "- We will **merge the cases and controls** using a full join.\n",
    "    - This basically appends the rows (or samples) in the `control_df` to the end of the `case_df`.\n",
    "- Then, we will **left join all of the flagged conditions**.\n",
    "    - This will keep all rows only in the merged dataframe.\n",
    "    - If these rows don't exist in the condition dataframe, the value for the flag column will be `NA`."
   ]
  },
  {
   "cell_type": "code",
   "execution_count": 7,
   "id": "37361f37-6bee-48b1-b68b-078c0bae4a11",
   "metadata": {},
   "outputs": [
    {
     "name": "stderr",
     "output_type": "stream",
     "text": [
      "Joining, by = c(\"person_id\", \"sex_at_birth\", \"date_of_birth\", \"race\", \"ethnicity\", \"outcome\")\n"
     ]
    }
   ],
   "source": [
    "# Full join the case and control dfs.\n",
    "merged_df <- case_df %>% full_join(control_df)\n",
    "\n",
    "# Left join the condition_df.\n",
    "merged_df <- merged_df %>% \n",
    "            left_join(condition_df, by=\"person_id\")"
   ]
  },
  {
   "cell_type": "markdown",
   "id": "3dfc596c-ff53-40e3-8cf5-d5885c20e23b",
   "metadata": {},
   "source": [
    "# Insert 0s for Condition Variables"
   ]
  },
  {
   "cell_type": "markdown",
   "id": "53050d73-a153-40e6-837d-e8ff89781e32",
   "metadata": {},
   "source": [
    "- **Don't forget** to fill the `NA` values with `0`! Only the `Condition_Flag` column should have `NA` values."
   ]
  },
  {
   "cell_type": "code",
   "execution_count": 8,
   "id": "4ce359a4-0c1f-4906-9840-f90cf248c6cf",
   "metadata": {},
   "outputs": [],
   "source": [
    "# This takes the NA values created from the left join and makes them the value '0'.\n",
    "merged_df[is.na(merged_df)] <- 0"
   ]
  },
  {
   "cell_type": "markdown",
   "id": "09d01612-9ba2-42df-a784-c6a0259e4d43",
   "metadata": {},
   "source": [
    "# Factor the 0/1 Variables"
   ]
  },
  {
   "cell_type": "markdown",
   "id": "81f58ae1-9f6a-427f-9ba4-8e2aaee6a4ad",
   "metadata": {},
   "source": [
    "- Right now, our flagged variables are **integers**, so we need to convert integer values to **factors**.\n",
    "- If this step is **not performed**, our **categorical variable will be treated as a continuous variable**, assuming a linear relationship with the outcome.\n",
    "- By converting variables to factors, we ensure that they are implemented correctly in the model."
   ]
  },
  {
   "cell_type": "code",
   "execution_count": 9,
   "id": "b0ff2d48-8124-4fa8-85f0-2dcb30d0983c",
   "metadata": {},
   "outputs": [],
   "source": [
    "merged_df$outcome <- factor(merged_df$outcome, levels = c(0, 1), labels = c(\"Controls\", \"Cases\"))\n",
    "merged_df$Condition_Flag <- factor(merged_df$Condition_Flag, levels = c(0, 1), labels = c(\"No Condition\", \"Condition\"))"
   ]
  },
  {
   "cell_type": "markdown",
   "id": "eec10252-ba9b-4049-a928-3800f5af265b",
   "metadata": {},
   "source": [
    "# Calculate Age at Current Date"
   ]
  },
  {
   "cell_type": "markdown",
   "id": "95952cc4-dfec-4fad-85ee-01b5e4eb238f",
   "metadata": {},
   "source": [
    "- If you would like to calculate the **age at the primary consent date**, you can go to the [User Support Hub](https://support.researchallofus.org/hc/en-us/articles/13176125767188-How-to-find-participant-enrollment-data).\n",
    "- This provides the **SQL code** needed to import the dataframe with person ids and their respective primary consent dates.\n",
    "- Replace `today` with a new variable name and replace `Sys.Date()` with the SQL code."
   ]
  },
  {
   "cell_type": "code",
   "execution_count": 10,
   "id": "ef9f3601-0af5-4d71-9833-ab2eff982924",
   "metadata": {},
   "outputs": [],
   "source": [
    "# Get today's date\n",
    "today = Sys.Date()\n",
    "\n",
    "# Convert the character string to a date object by stripping the time portion.\n",
    "# sub(\" .*\", \"\") is saying any character after the space should be deleted from the string.\n",
    "birthdate <- as.Date(sub(\" .*\", \"\", merged_df$date_of_birth))\n",
    "\n",
    "# Calculate age in years.\n",
    "age <- as.integer(difftime(today, birthdate, units = \"days\") / 365.25)\n",
    "\n",
    "# Assign a new column called 'age' in merged_df.\n",
    "merged_df$age <- age"
   ]
  },
  {
   "cell_type": "markdown",
   "id": "eaa09eb2-a6e9-46d9-a850-f2fc1f999899",
   "metadata": {},
   "source": [
    "# Explore Cleaned Data"
   ]
  },
  {
   "cell_type": "markdown",
   "id": "2751a987-ecd0-42b6-bacb-537866137da6",
   "metadata": {},
   "source": [
    "- Check the data and its dimensions"
   ]
  },
  {
   "cell_type": "code",
   "execution_count": 11,
   "id": "8a132f84-35ba-4454-93d9-8362ec9c0560",
   "metadata": {},
   "outputs": [
    {
     "data": {
      "text/html": [
       "<table>\n",
       "<thead><tr><th scope=col>person_id</th><th scope=col>sex_at_birth</th><th scope=col>date_of_birth</th><th scope=col>race</th><th scope=col>ethnicity</th><th scope=col>outcome</th><th scope=col>Condition_Flag</th><th scope=col>age</th></tr></thead>\n",
       "<tbody>\n",
       "\t<tr><td>1                        </td><td>Male                     </td><td>1990-07-03 16:34:24 UTC  </td><td>White                    </td><td>Hispanic or Latino       </td><td>Cases                    </td><td>No Condition             </td><td>33                       </td></tr>\n",
       "\t<tr><td>2                        </td><td>Male                     </td><td>1945-07-19 18:05:52 UTC  </td><td>Black or African American</td><td>Not Hispanic or Latino   </td><td>Cases                    </td><td>No Condition             </td><td>78                       </td></tr>\n",
       "\t<tr><td>3                        </td><td>Male                     </td><td>1990-03-08 22:38:28 UTC  </td><td>Asian                    </td><td>Not Hispanic or Latino   </td><td>Cases                    </td><td>Condition                </td><td>33                       </td></tr>\n",
       "\t<tr><td>4                        </td><td>Female                   </td><td>1987-04-21 17:06:06 UTC  </td><td>Asian                    </td><td>Hispanic or Latino       </td><td>Cases                    </td><td>No Condition             </td><td>36                       </td></tr>\n",
       "\t<tr><td>5                        </td><td>Male                     </td><td>1981-07-19 02:37:22 UTC  </td><td>Asian                    </td><td>Hispanic or Latino       </td><td>Cases                    </td><td>Condition                </td><td>42                       </td></tr>\n",
       "\t<tr><td>6                        </td><td>Female                   </td><td>1972-11-22 02:41:58 UTC  </td><td>White                    </td><td>Not Hispanic or Latino   </td><td>Cases                    </td><td>No Condition             </td><td>50                       </td></tr>\n",
       "</tbody>\n",
       "</table>\n"
      ],
      "text/latex": [
       "\\begin{tabular}{r|llllllll}\n",
       " person\\_id & sex\\_at\\_birth & date\\_of\\_birth & race & ethnicity & outcome & Condition\\_Flag & age\\\\\n",
       "\\hline\n",
       "\t 1                         & Male                      & 1990-07-03 16:34:24 UTC   & White                     & Hispanic or Latino        & Cases                     & No Condition              & 33                       \\\\\n",
       "\t 2                         & Male                      & 1945-07-19 18:05:52 UTC   & Black or African American & Not Hispanic or Latino    & Cases                     & No Condition              & 78                       \\\\\n",
       "\t 3                         & Male                      & 1990-03-08 22:38:28 UTC   & Asian                     & Not Hispanic or Latino    & Cases                     & Condition                 & 33                       \\\\\n",
       "\t 4                         & Female                    & 1987-04-21 17:06:06 UTC   & Asian                     & Hispanic or Latino        & Cases                     & No Condition              & 36                       \\\\\n",
       "\t 5                         & Male                      & 1981-07-19 02:37:22 UTC   & Asian                     & Hispanic or Latino        & Cases                     & Condition                 & 42                       \\\\\n",
       "\t 6                         & Female                    & 1972-11-22 02:41:58 UTC   & White                     & Not Hispanic or Latino    & Cases                     & No Condition              & 50                       \\\\\n",
       "\\end{tabular}\n"
      ],
      "text/markdown": [
       "\n",
       "| person_id | sex_at_birth | date_of_birth | race | ethnicity | outcome | Condition_Flag | age |\n",
       "|---|---|---|---|---|---|---|---|\n",
       "| 1                         | Male                      | 1990-07-03 16:34:24 UTC   | White                     | Hispanic or Latino        | Cases                     | No Condition              | 33                        |\n",
       "| 2                         | Male                      | 1945-07-19 18:05:52 UTC   | Black or African American | Not Hispanic or Latino    | Cases                     | No Condition              | 78                        |\n",
       "| 3                         | Male                      | 1990-03-08 22:38:28 UTC   | Asian                     | Not Hispanic or Latino    | Cases                     | Condition                 | 33                        |\n",
       "| 4                         | Female                    | 1987-04-21 17:06:06 UTC   | Asian                     | Hispanic or Latino        | Cases                     | No Condition              | 36                        |\n",
       "| 5                         | Male                      | 1981-07-19 02:37:22 UTC   | Asian                     | Hispanic or Latino        | Cases                     | Condition                 | 42                        |\n",
       "| 6                         | Female                    | 1972-11-22 02:41:58 UTC   | White                     | Not Hispanic or Latino    | Cases                     | No Condition              | 50                        |\n",
       "\n"
      ],
      "text/plain": [
       "  person_id sex_at_birth date_of_birth           race                     \n",
       "1 1         Male         1990-07-03 16:34:24 UTC White                    \n",
       "2 2         Male         1945-07-19 18:05:52 UTC Black or African American\n",
       "3 3         Male         1990-03-08 22:38:28 UTC Asian                    \n",
       "4 4         Female       1987-04-21 17:06:06 UTC Asian                    \n",
       "5 5         Male         1981-07-19 02:37:22 UTC Asian                    \n",
       "6 6         Female       1972-11-22 02:41:58 UTC White                    \n",
       "  ethnicity              outcome Condition_Flag age\n",
       "1 Hispanic or Latino     Cases   No Condition   33 \n",
       "2 Not Hispanic or Latino Cases   No Condition   78 \n",
       "3 Not Hispanic or Latino Cases   Condition      33 \n",
       "4 Hispanic or Latino     Cases   No Condition   36 \n",
       "5 Hispanic or Latino     Cases   Condition      42 \n",
       "6 Not Hispanic or Latino Cases   No Condition   50 "
      ]
     },
     "metadata": {},
     "output_type": "display_data"
    },
    {
     "data": {
      "text/html": [
       "<ol class=list-inline>\n",
       "\t<li>1300</li>\n",
       "\t<li>8</li>\n",
       "</ol>\n"
      ],
      "text/latex": [
       "\\begin{enumerate*}\n",
       "\\item 1300\n",
       "\\item 8\n",
       "\\end{enumerate*}\n"
      ],
      "text/markdown": [
       "1. 1300\n",
       "2. 8\n",
       "\n",
       "\n"
      ],
      "text/plain": [
       "[1] 1300    8"
      ]
     },
     "metadata": {},
     "output_type": "display_data"
    }
   ],
   "source": [
    "head(merged_df)\n",
    "dim(merged_df)"
   ]
  },
  {
   "cell_type": "markdown",
   "id": "2f38b72a-c437-4c35-ac09-c1bd5b8ecf30",
   "metadata": {},
   "source": [
    "## Numerical Summary"
   ]
  },
  {
   "cell_type": "code",
   "execution_count": 12,
   "id": "f13dc96e-2daf-4387-b47f-fad48d2c378c",
   "metadata": {},
   "outputs": [
    {
     "data": {
      "text/html": [
       "<table class=\"Rtable1\">\n",
       "<thead>\n",
       "<tr>\n",
       "<th class='rowlabel firstrow lastrow'></th>\n",
       "<th class='firstrow lastrow'><span class='stratlabel'>Controls<br><span class='stratn'>(n=1000)</span></span></th>\n",
       "<th class='firstrow lastrow'><span class='stratlabel'>Cases<br><span class='stratn'>(n=300)</span></span></th>\n",
       "<th class='firstrow lastrow'><span class='stratlabel'>Overall<br><span class='stratn'>(n=1300)</span></span></th>\n",
       "</tr>\n",
       "</thead>\n",
       "<tbody>\n",
       "<tr>\n",
       "<td class='rowlabel firstrow'><span class='varlabel'>Age</span></td>\n",
       "<td class='firstrow'></td>\n",
       "<td class='firstrow'></td>\n",
       "<td class='firstrow'></td>\n",
       "</tr>\n",
       "<tr>\n",
       "<td class='rowlabel'>Mean (SD)</td>\n",
       "<td>49.1 (16.8)</td>\n",
       "<td>49.2 (16.9)</td>\n",
       "<td>49.1 (16.8)</td>\n",
       "</tr>\n",
       "<tr>\n",
       "<td class='rowlabel lastrow'>Median [Min, Max]</td>\n",
       "<td class='lastrow'>49.0 [20.0, 78.0]</td>\n",
       "<td class='lastrow'>50.0 [20.0, 78.0]</td>\n",
       "<td class='lastrow'>49.0 [20.0, 78.0]</td>\n",
       "</tr>\n",
       "<tr>\n",
       "<td class='rowlabel firstrow'><span class='varlabel'>Sex</span></td>\n",
       "<td class='firstrow'></td>\n",
       "<td class='firstrow'></td>\n",
       "<td class='firstrow'></td>\n",
       "</tr>\n",
       "<tr>\n",
       "<td class='rowlabel'>Female</td>\n",
       "<td>483 (48.3%)</td>\n",
       "<td>146 (48.7%)</td>\n",
       "<td>629 (48.4%)</td>\n",
       "</tr>\n",
       "<tr>\n",
       "<td class='rowlabel lastrow'>Male</td>\n",
       "<td class='lastrow'>517 (51.7%)</td>\n",
       "<td class='lastrow'>154 (51.3%)</td>\n",
       "<td class='lastrow'>671 (51.6%)</td>\n",
       "</tr>\n",
       "<tr>\n",
       "<td class='rowlabel firstrow'><span class='varlabel'>Race</span></td>\n",
       "<td class='firstrow'></td>\n",
       "<td class='firstrow'></td>\n",
       "<td class='firstrow'></td>\n",
       "</tr>\n",
       "<tr>\n",
       "<td class='rowlabel'>Asian</td>\n",
       "<td>315 (31.5%)</td>\n",
       "<td>111 (37.0%)</td>\n",
       "<td>426 (32.8%)</td>\n",
       "</tr>\n",
       "<tr>\n",
       "<td class='rowlabel'>Black or African American</td>\n",
       "<td>318 (31.8%)</td>\n",
       "<td>94 (31.3%)</td>\n",
       "<td>412 (31.7%)</td>\n",
       "</tr>\n",
       "<tr>\n",
       "<td class='rowlabel lastrow'>White</td>\n",
       "<td class='lastrow'>367 (36.7%)</td>\n",
       "<td class='lastrow'>95 (31.7%)</td>\n",
       "<td class='lastrow'>462 (35.5%)</td>\n",
       "</tr>\n",
       "<tr>\n",
       "<td class='rowlabel firstrow'><span class='varlabel'>Ethnicity</span></td>\n",
       "<td class='firstrow'></td>\n",
       "<td class='firstrow'></td>\n",
       "<td class='firstrow'></td>\n",
       "</tr>\n",
       "<tr>\n",
       "<td class='rowlabel'>Hispanic or Latino</td>\n",
       "<td>480 (48.0%)</td>\n",
       "<td>151 (50.3%)</td>\n",
       "<td>631 (48.5%)</td>\n",
       "</tr>\n",
       "<tr>\n",
       "<td class='rowlabel lastrow'>Not Hispanic or Latino</td>\n",
       "<td class='lastrow'>520 (52.0%)</td>\n",
       "<td class='lastrow'>149 (49.7%)</td>\n",
       "<td class='lastrow'>669 (51.5%)</td>\n",
       "</tr>\n",
       "<tr>\n",
       "<td class='rowlabel firstrow'><span class='varlabel'>Condition Name Here</span></td>\n",
       "<td class='firstrow'></td>\n",
       "<td class='firstrow'></td>\n",
       "<td class='firstrow'></td>\n",
       "</tr>\n",
       "<tr>\n",
       "<td class='rowlabel'>No Condition</td>\n",
       "<td>620 (62.0%)</td>\n",
       "<td>130 (43.3%)</td>\n",
       "<td>750 (57.7%)</td>\n",
       "</tr>\n",
       "<tr>\n",
       "<td class='rowlabel lastrow'>Condition</td>\n",
       "<td class='lastrow'>380 (38.0%)</td>\n",
       "<td class='lastrow'>170 (56.7%)</td>\n",
       "<td class='lastrow'>550 (42.3%)</td>\n",
       "</tr>\n",
       "</tbody>\n",
       "</table>\n"
      ]
     },
     "metadata": {},
     "output_type": "display_data"
    }
   ],
   "source": [
    "# rename variables for table\n",
    "label(merged_df$age) <- \"Age\"\n",
    "label(merged_df$sex_at_birth) <- \"Sex\"\n",
    "label(merged_df$race) <- \"Race\"\n",
    "label(merged_df$ethnicity) <- \"Ethnicity\"\n",
    "label(merged_df$Condition_Flag) <- \"Condition Name Here\"\n",
    "\n",
    "\n",
    "output <- table1(~age + sex_at_birth + race + ethnicity + Condition_Flag | outcome, data = merged_df)\n",
    "\n",
    "display_html(output)"
   ]
  },
  {
   "cell_type": "markdown",
   "id": "fa92850a-1ec9-4938-b1ba-5b6313d4e975",
   "metadata": {},
   "source": [
    "## Graphical Summaries"
   ]
  },
  {
   "cell_type": "markdown",
   "id": "fe7be919-2c7a-44bd-84f1-9f2fa9bdcc6e",
   "metadata": {},
   "source": [
    "#### Density Plot"
   ]
  },
  {
   "cell_type": "markdown",
   "id": "f42a2631-591f-4dc6-b68e-923565365d4d",
   "metadata": {},
   "source": [
    "- This provides a **density plot of age** in the case and control groups."
   ]
  },
  {
   "cell_type": "code",
   "execution_count": 13,
   "id": "114c1ad0-6b2a-49a1-bbb8-2fb2745a539e",
   "metadata": {},
   "outputs": [
    {
     "data": {
      "image/png": "[encoded data removed]",
      "text/plain": [
       "plot without title"
      ]
     },
     "metadata": {},
     "output_type": "display_data"
    }
   ],
   "source": [
    "ggplot(merged_df, aes(x=age, fill=outcome)) + scale_fill_manual(values=c(\"purple\", \"darkseagreen\"), name = \"Group\") +\n",
    "  facet_wrap(~outcome) + \n",
    "  geom_histogram(aes(y=..density..),      \n",
    "                   binwidth=5, \n",
    "                   colour=\"black\", fill=\"white\") +\n",
    "  geom_density(alpha=.5) +   \n",
    "  theme_test() + \n",
    "  xlab(\"Age\") + ylab(\"Density\") + ggtitle(\"Distribution of Age By Case/Control\")"
   ]
  },
  {
   "cell_type": "markdown",
   "id": "476561ad-d5eb-406c-91a9-174b8530fef1",
   "metadata": {},
   "source": [
    "#### Box Plot"
   ]
  },
  {
   "cell_type": "markdown",
   "id": "f08e1320-5ae4-408b-a4de-9b3d79b9a504",
   "metadata": {},
   "source": [
    "- This provides a **box plot of age** in the case and control groups."
   ]
  },
  {
   "cell_type": "code",
   "execution_count": 14,
   "id": "8ce98c9c-503e-486a-86fa-c1db87c9a62f",
   "metadata": {},
   "outputs": [
    {
     "data": {
      "image/png": "[encoded data removed]",
      "text/plain": [
       "plot without title"
      ]
     },
     "metadata": {},
     "output_type": "display_data"
    }
   ],
   "source": [
    "ggplot(merged_df, aes(y=age, fill=outcome)) + \n",
    "scale_fill_manual(values=c(\"purple\", \"deepskyblue1\"), name = \"Outcome\") + \n",
    "geom_boxplot() + theme_classic() + coord_flip() + \n",
    "ylab(\"Age\") + xlab(\"Outcome\") + ggtitle(\"Box Plot of Age by Case/Control\") + theme(axis.text.y = element_blank())"
   ]
  },
  {
   "cell_type": "markdown",
   "id": "d818e160-ea8b-4a2d-b7ab-4ccaa7b3e064",
   "metadata": {},
   "source": [
    "#### Bar Plot"
   ]
  },
  {
   "cell_type": "markdown",
   "id": "38afe940-e481-4989-aa92-6a883bb40179",
   "metadata": {},
   "source": [
    "- This provides a **bar plot of sex** in the case and control groups"
   ]
  },
  {
   "cell_type": "code",
   "execution_count": 15,
   "id": "63e0ff1e-2597-488c-a259-d05b7357b0f1",
   "metadata": {},
   "outputs": [
    {
     "data": {
      "image/png": "[encoded data removed]",
      "text/plain": [
       "plot without title"
      ]
     },
     "metadata": {},
     "output_type": "display_data"
    }
   ],
   "source": [
    "outcome_barplot <- merged_df %>% \n",
    "  group_by(sex_at_birth,outcome) %>% \n",
    "  summarise(n=n()) %>% \n",
    "  group_by(outcome) %>% \n",
    "  mutate(perc=100*n/sum(n))\n",
    "\n",
    "ggplot(outcome_barplot, aes(x=sex_at_birth, y=perc/100, fill=sex_at_birth)) + scale_fill_manual(values=c(\"lightseagreen\", \"khaki\"), name = \"Sex\") +\n",
    "  geom_bar(stat=\"identity\") +\n",
    "  xlab(\"Sex\") + ylab(\"Proportion\") + ggtitle(\"Proportion of Sex for Case/Control Groups\") + \n",
    "  facet_wrap(~ outcome) + geom_text(aes(label = sprintf(\"%.02f %%\", perc), vjust = 1.5, hjust = .41))  + theme_test() "
   ]
  },
  {
   "cell_type": "markdown",
   "id": "a96e2894-ba2e-404f-b986-91d183c8c3a0",
   "metadata": {},
   "source": [
    "# Statistical Analysis"
   ]
  },
  {
   "cell_type": "markdown",
   "id": "fa2ed525-68da-42b5-98be-16707037cd2d",
   "metadata": {},
   "source": [
    "- You have the option to run all the tests listed below, or simply select the specific one you need and execute its corresponding cells."
   ]
  },
  {
   "cell_type": "markdown",
   "id": "d5975da6-0741-4d28-a5bf-058832bd9907",
   "metadata": {},
   "source": [
    "## Chi-Square"
   ]
  },
  {
   "cell_type": "markdown",
   "id": "b1a34d58-76cd-4006-b75d-d4ccec0e6719",
   "metadata": {},
   "source": [
    "- A **2x2 contingency table** showing the counts for each condition/outcome category.\n",
    "- A **Pearson's Chi-Square Test** is ran below for the condition and outcome variables using the contingency table."
   ]
  },
  {
   "cell_type": "code",
   "execution_count": 16,
   "id": "092a7051-113c-4918-8c7f-86c256684a61",
   "metadata": {},
   "outputs": [
    {
     "data": {
      "text/plain": [
       "              \n",
       "               Controls Cases\n",
       "  No Condition      620   130\n",
       "  Condition         380   170"
      ]
     },
     "metadata": {},
     "output_type": "display_data"
    }
   ],
   "source": [
    "# Replace the word 'column' with the column name you would like to test against the outcome.\n",
    "chisq_table <- table(merged_df$Condition_Flag, merged_df$outcome)\n",
    "chisq_table"
   ]
  },
  {
   "cell_type": "markdown",
   "id": "20cb8b6f-6c99-49db-88ea-33ca82d78c92",
   "metadata": {},
   "source": [
    "## T-Test"
   ]
  },
  {
   "cell_type": "markdown",
   "id": "e9c9e88c-d5a0-4951-ba94-1a5a285445b6",
   "metadata": {},
   "source": [
    "- A **variance test and t-test is ran below for age**, a quantitative variable.\n",
    "- This compares the **mean age** between the case and control groups."
   ]
  },
  {
   "cell_type": "code",
   "execution_count": 17,
   "id": "753cb3d4-6f76-4063-abc6-4cb5ae5442f9",
   "metadata": {},
   "outputs": [
    {
     "data": {
      "text/plain": [
       "\n",
       "\tF test to compare two variances\n",
       "\n",
       "data:  age by outcome\n",
       "F = 0.9814, num df = 999, denom df = 299, p-value = 0.8271\n",
       "alternative hypothesis: true ratio of variances is not equal to 1\n",
       "95 percent confidence interval:\n",
       " 0.8135559 1.1730938\n",
       "sample estimates:\n",
       "ratio of variances \n",
       "         0.9813999 \n"
      ]
     },
     "metadata": {},
     "output_type": "display_data"
    }
   ],
   "source": [
    "# Test for equality of variance before performing t-test.\n",
    "var.test(age ~ outcome, data=merged_df, alternative = \"two.sided\", conf.level=0.95)"
   ]
  },
  {
   "cell_type": "code",
   "execution_count": 18,
   "id": "e4baac48-8710-415d-a8cc-8b4db00e79aa",
   "metadata": {},
   "outputs": [
    {
     "data": {
      "text/plain": [
       "\n",
       "\tTwo Sample t-test\n",
       "\n",
       "data:  merged_df$age by merged_df$outcome\n",
       "t = -0.080444, df = 1298, p-value = 0.9359\n",
       "alternative hypothesis: true difference in means is not equal to 0\n",
       "95 percent confidence interval:\n",
       " -2.259436  2.081436\n",
       "sample estimates:\n",
       "mean in group Controls    mean in group Cases \n",
       "                49.121                 49.210 \n"
      ]
     },
     "metadata": {},
     "output_type": "display_data"
    }
   ],
   "source": [
    "# Use test above to determine if var.equal should be TRUE or FALSE.\n",
    "t.test(merged_df$age ~ merged_df$outcome, var.equal = TRUE, conf.level=0.95)"
   ]
  },
  {
   "cell_type": "markdown",
   "id": "636241bd-8a26-4b42-b87b-dc6dbc989d57",
   "metadata": {},
   "source": [
    "## Logistic Regression"
   ]
  },
  {
   "cell_type": "markdown",
   "id": "44fff1fe-97c4-4d90-8c38-fd44915dc9a0",
   "metadata": {},
   "source": [
    "- Here, we run the **unadjusted and adjusted logistic regressions for the outcome and condition**."
   ]
  },
  {
   "cell_type": "markdown",
   "id": "bf717f9f-f2ac-4d7b-a541-60856fc84462",
   "metadata": {},
   "source": [
    "### Unadjusted"
   ]
  },
  {
   "cell_type": "code",
   "execution_count": 19,
   "id": "42cd0a4c-24ab-4407-a440-3683ca08f6df",
   "metadata": {},
   "outputs": [
    {
     "data": {
      "text/plain": [
       "\n",
       "Call:\n",
       "glm(formula = outcome ~ Condition_Flag, family = binomial(link = \"logit\"), \n",
       "    data = merged_df)\n",
       "\n",
       "Deviance Residuals: \n",
       "    Min       1Q   Median       3Q      Max  \n",
       "-0.8599  -0.8599  -0.6170  -0.6170   1.8722  \n",
       "\n",
       "Coefficients:\n",
       "                        Estimate Std. Error z value Pr(>|z|)    \n",
       "(Intercept)             -1.56219    0.09646 -16.195  < 2e-16 ***\n",
       "Condition_FlagCondition  0.75781    0.13349   5.677 1.37e-08 ***\n",
       "---\n",
       "Signif. codes:  0 '***' 0.001 '**' 0.01 '*' 0.05 '.' 0.1 ' ' 1\n",
       "\n",
       "(Dispersion parameter for binomial family taken to be 1)\n",
       "\n",
       "    Null deviance: 1404.5  on 1299  degrees of freedom\n",
       "Residual deviance: 1371.9  on 1298  degrees of freedom\n",
       "AIC: 1375.9\n",
       "\n",
       "Number of Fisher Scoring iterations: 4\n"
      ]
     },
     "metadata": {},
     "output_type": "display_data"
    }
   ],
   "source": [
    "# Here, we do a logistic regression without adjusting for covariates.\n",
    "unadj_reg <- glm(outcome ~ Condition_Flag, family = binomial(link = \"logit\"), data = merged_df)\n",
    "summary(unadj_reg)"
   ]
  },
  {
   "cell_type": "code",
   "execution_count": 20,
   "id": "94cc6b63-6797-4dea-9b21-50f06b1cc115",
   "metadata": {},
   "outputs": [
    {
     "data": {
      "text/html": [
       "<table>\n",
       "<thead><tr><th></th><th scope=col>exp(coef(unadj_reg))</th></tr></thead>\n",
       "<tbody>\n",
       "\t<tr><th scope=row>(Intercept)</th><td>0.2096774</td></tr>\n",
       "\t<tr><th scope=row>Condition_FlagCondition</th><td>2.1336032</td></tr>\n",
       "</tbody>\n",
       "</table>\n"
      ],
      "text/latex": [
       "\\begin{tabular}{r|l}\n",
       "  & exp(coef(unadj\\_reg))\\\\\n",
       "\\hline\n",
       "\t(Intercept) & 0.2096774\\\\\n",
       "\tCondition\\_FlagCondition & 2.1336032\\\\\n",
       "\\end{tabular}\n"
      ],
      "text/markdown": [
       "\n",
       "| <!--/--> | exp(coef(unadj_reg)) |\n",
       "|---|---|\n",
       "| (Intercept) | 0.2096774 |\n",
       "| Condition_FlagCondition | 2.1336032 |\n",
       "\n"
      ],
      "text/plain": [
       "                        exp(coef(unadj_reg))\n",
       "(Intercept)             0.2096774           \n",
       "Condition_FlagCondition 2.1336032           "
      ]
     },
     "metadata": {},
     "output_type": "display_data"
    }
   ],
   "source": [
    "# This prints the odds ratio for the predictor variable.\n",
    "as.data.frame(exp(coef(unadj_reg)))"
   ]
  },
  {
   "cell_type": "code",
   "execution_count": 21,
   "id": "afdc1590-c5fd-4407-adc4-f9c19e080c51",
   "metadata": {},
   "outputs": [
    {
     "data": {
      "text/html": [
       "<table>\n",
       "<thead><tr><th></th><th scope=col>2.5 %</th><th scope=col>97.5 %</th></tr></thead>\n",
       "<tbody>\n",
       "\t<tr><th scope=row>(Intercept)</th><td>0.1735569</td><td>0.2533154</td></tr>\n",
       "\t<tr><th scope=row>Condition_FlagCondition</th><td>1.6424350</td><td>2.7716548</td></tr>\n",
       "</tbody>\n",
       "</table>\n"
      ],
      "text/latex": [
       "\\begin{tabular}{r|ll}\n",
       "  & 2.5 \\% & 97.5 \\%\\\\\n",
       "\\hline\n",
       "\t(Intercept) & 0.1735569 & 0.2533154\\\\\n",
       "\tCondition\\_FlagCondition & 1.6424350 & 2.7716548\\\\\n",
       "\\end{tabular}\n"
      ],
      "text/markdown": [
       "\n",
       "| <!--/--> | 2.5 % | 97.5 % |\n",
       "|---|---|---|\n",
       "| (Intercept) | 0.1735569 | 0.2533154 |\n",
       "| Condition_FlagCondition | 1.6424350 | 2.7716548 |\n",
       "\n"
      ],
      "text/plain": [
       "                        2.5 %     97.5 %   \n",
       "(Intercept)             0.1735569 0.2533154\n",
       "Condition_FlagCondition 1.6424350 2.7716548"
      ]
     },
     "metadata": {},
     "output_type": "display_data"
    }
   ],
   "source": [
    "# This prints the 95% confidence interval for the odds ratio.\n",
    "exp(confint.default(unadj_reg))"
   ]
  },
  {
   "cell_type": "markdown",
   "id": "63116187-9d61-4e41-9731-61ebd1630521",
   "metadata": {},
   "source": [
    "### Adjusted"
   ]
  },
  {
   "cell_type": "markdown",
   "id": "277ac444-3fae-4009-918e-c5d186b4ddad",
   "metadata": {},
   "source": [
    "- This equation assumes that you imported **sex, race, and ethnicity**.\n",
    "- It also assumes that you imported **date of birth to calculate age**."
   ]
  },
  {
   "cell_type": "code",
   "execution_count": 22,
   "id": "ad9bc7bb-00ff-4656-9cd0-050504029f22",
   "metadata": {},
   "outputs": [
    {
     "data": {
      "text/plain": [
       "\n",
       "Call:\n",
       "glm(formula = outcome ~ Condition_Flag + race + ethnicity + age + \n",
       "    sex_at_birth, family = binomial(link = \"logit\"), data = merged_df)\n",
       "\n",
       "Deviance Residuals: \n",
       "    Min       1Q   Median       3Q      Max  \n",
       "-0.9568  -0.7860  -0.6247  -0.5525   1.9795  \n",
       "\n",
       "Coefficients:\n",
       "                                  Estimate Std. Error z value Pr(>|z|)    \n",
       "(Intercept)                     -1.3602383  0.2543477  -5.348 8.90e-08 ***\n",
       "Condition_FlagCondition          0.7724434  0.1340259   5.763 8.24e-09 ***\n",
       "raceBlack or African American   -0.1909214  0.1635159  -1.168   0.2430    \n",
       "raceWhite                       -0.3570612  0.1619957  -2.204   0.0275 *  \n",
       "ethnicityNot Hispanic or Latino -0.1000538  0.1339952  -0.747   0.4552    \n",
       "age                              0.0005772  0.0039920   0.145   0.8850    \n",
       "sex_at_birthMale                -0.0078596  0.1340036  -0.059   0.9532    \n",
       "---\n",
       "Signif. codes:  0 '***' 0.001 '**' 0.01 '*' 0.05 '.' 0.1 ' ' 1\n",
       "\n",
       "(Dispersion parameter for binomial family taken to be 1)\n",
       "\n",
       "    Null deviance: 1404.5  on 1299  degrees of freedom\n",
       "Residual deviance: 1366.5  on 1293  degrees of freedom\n",
       "AIC: 1380.5\n",
       "\n",
       "Number of Fisher Scoring iterations: 4\n"
      ]
     },
     "metadata": {},
     "output_type": "display_data"
    }
   ],
   "source": [
    "# Here, we do a logistic regression adjusting for race, ethnicity, age, and sex at birth.\n",
    "adj_reg <- glm(outcome ~ Condition_Flag + race + ethnicity + age + sex_at_birth, \n",
    "                 family = binomial(link = \"logit\"), data = merged_df)\n",
    "summary(adj_reg)"
   ]
  },
  {
   "cell_type": "code",
   "execution_count": 23,
   "id": "341f05b1-2afe-45b7-b5b5-3c8463160905",
   "metadata": {},
   "outputs": [
    {
     "data": {
      "text/html": [
       "<table>\n",
       "<thead><tr><th></th><th scope=col>exp(coef(adj_reg))</th></tr></thead>\n",
       "<tbody>\n",
       "\t<tr><th scope=row>(Intercept)</th><td>0.2565996</td></tr>\n",
       "\t<tr><th scope=row>Condition_FlagCondition</th><td>2.1650500</td></tr>\n",
       "\t<tr><th scope=row>raceBlack or African American</th><td>0.8261975</td></tr>\n",
       "\t<tr><th scope=row>raceWhite</th><td>0.6997297</td></tr>\n",
       "\t<tr><th scope=row>ethnicityNot Hispanic or Latino</th><td>0.9047888</td></tr>\n",
       "\t<tr><th scope=row>age</th><td>1.0005774</td></tr>\n",
       "\t<tr><th scope=row>sex_at_birthMale</th><td>0.9921712</td></tr>\n",
       "</tbody>\n",
       "</table>\n"
      ],
      "text/latex": [
       "\\begin{tabular}{r|l}\n",
       "  & exp(coef(adj\\_reg))\\\\\n",
       "\\hline\n",
       "\t(Intercept) & 0.2565996\\\\\n",
       "\tCondition\\_FlagCondition & 2.1650500\\\\\n",
       "\traceBlack or African American & 0.8261975\\\\\n",
       "\traceWhite & 0.6997297\\\\\n",
       "\tethnicityNot Hispanic or Latino & 0.9047888\\\\\n",
       "\tage & 1.0005774\\\\\n",
       "\tsex\\_at\\_birthMale & 0.9921712\\\\\n",
       "\\end{tabular}\n"
      ],
      "text/markdown": [
       "\n",
       "| <!--/--> | exp(coef(adj_reg)) |\n",
       "|---|---|\n",
       "| (Intercept) | 0.2565996 |\n",
       "| Condition_FlagCondition | 2.1650500 |\n",
       "| raceBlack or African American | 0.8261975 |\n",
       "| raceWhite | 0.6997297 |\n",
       "| ethnicityNot Hispanic or Latino | 0.9047888 |\n",
       "| age | 1.0005774 |\n",
       "| sex_at_birthMale | 0.9921712 |\n",
       "\n"
      ],
      "text/plain": [
       "                                exp(coef(adj_reg))\n",
       "(Intercept)                     0.2565996         \n",
       "Condition_FlagCondition         2.1650500         \n",
       "raceBlack or African American   0.8261975         \n",
       "raceWhite                       0.6997297         \n",
       "ethnicityNot Hispanic or Latino 0.9047888         \n",
       "age                             1.0005774         \n",
       "sex_at_birthMale                0.9921712         "
      ]
     },
     "metadata": {},
     "output_type": "display_data"
    }
   ],
   "source": [
    "# This prints the odds ratio for all the predictor variables.\n",
    "as.data.frame(exp(coef(adj_reg)))"
   ]
  },
  {
   "cell_type": "code",
   "execution_count": 24,
   "id": "e6f72fb0-2ef8-4a3f-93f9-565519442a9d",
   "metadata": {},
   "outputs": [
    {
     "data": {
      "text/html": [
       "<table>\n",
       "<thead><tr><th></th><th scope=col>2.5 %</th><th scope=col>97.5 %</th></tr></thead>\n",
       "<tbody>\n",
       "\t<tr><th scope=row>(Intercept)</th><td>0.1558672</td><td>0.4224324</td></tr>\n",
       "\t<tr><th scope=row>Condition_FlagCondition</th><td>1.6648874</td><td>2.8154706</td></tr>\n",
       "\t<tr><th scope=row>raceBlack or African American</th><td>0.5996515</td><td>1.1383318</td></tr>\n",
       "\t<tr><th scope=row>raceWhite</th><td>0.5093769</td><td>0.9612167</td></tr>\n",
       "\t<tr><th scope=row>ethnicityNot Hispanic or Latino</th><td>0.6958094</td><td>1.1765329</td></tr>\n",
       "\t<tr><th scope=row>age</th><td>0.9927793</td><td>1.0084368</td></tr>\n",
       "\t<tr><th scope=row>sex_at_birthMale</th><td>0.7629965</td><td>1.2901810</td></tr>\n",
       "</tbody>\n",
       "</table>\n"
      ],
      "text/latex": [
       "\\begin{tabular}{r|ll}\n",
       "  & 2.5 \\% & 97.5 \\%\\\\\n",
       "\\hline\n",
       "\t(Intercept) & 0.1558672 & 0.4224324\\\\\n",
       "\tCondition\\_FlagCondition & 1.6648874 & 2.8154706\\\\\n",
       "\traceBlack or African American & 0.5996515 & 1.1383318\\\\\n",
       "\traceWhite & 0.5093769 & 0.9612167\\\\\n",
       "\tethnicityNot Hispanic or Latino & 0.6958094 & 1.1765329\\\\\n",
       "\tage & 0.9927793 & 1.0084368\\\\\n",
       "\tsex\\_at\\_birthMale & 0.7629965 & 1.2901810\\\\\n",
       "\\end{tabular}\n"
      ],
      "text/markdown": [
       "\n",
       "| <!--/--> | 2.5 % | 97.5 % |\n",
       "|---|---|---|\n",
       "| (Intercept) | 0.1558672 | 0.4224324 |\n",
       "| Condition_FlagCondition | 1.6648874 | 2.8154706 |\n",
       "| raceBlack or African American | 0.5996515 | 1.1383318 |\n",
       "| raceWhite | 0.5093769 | 0.9612167 |\n",
       "| ethnicityNot Hispanic or Latino | 0.6958094 | 1.1765329 |\n",
       "| age | 0.9927793 | 1.0084368 |\n",
       "| sex_at_birthMale | 0.7629965 | 1.2901810 |\n",
       "\n"
      ],
      "text/plain": [
       "                                2.5 %     97.5 %   \n",
       "(Intercept)                     0.1558672 0.4224324\n",
       "Condition_FlagCondition         1.6648874 2.8154706\n",
       "raceBlack or African American   0.5996515 1.1383318\n",
       "raceWhite                       0.5093769 0.9612167\n",
       "ethnicityNot Hispanic or Latino 0.6958094 1.1765329\n",
       "age                             0.9927793 1.0084368\n",
       "sex_at_birthMale                0.7629965 1.2901810"
      ]
     },
     "metadata": {},
     "output_type": "display_data"
    }
   ],
   "source": [
    "# This prints the 95% confidence interval for the odds ratio.\n",
    "exp(confint.default(adj_reg))"
   ]
  }
 ],
 "metadata": {
  "kernelspec": {
   "display_name": "R",
   "language": "R",
   "name": "ir"
  },
  "language_info": {
   "codemirror_mode": "r",
   "file_extension": ".r",
   "mimetype": "text/x-r-source",
   "name": "R",
   "pygments_lexer": "r",
   "version": "3.6.1"
  }
 },
 "nbformat": 4,
 "nbformat_minor": 5
}
